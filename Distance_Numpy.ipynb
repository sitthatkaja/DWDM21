{
  "nbformat": 4,
  "nbformat_minor": 0,
  "metadata": {
    "colab": {
      "name": "Distance_Numpy.ipynb",
      "provenance": [],
      "authorship_tag": "ABX9TyPshI02FF8dkRBgLzqcNtNP",
      "include_colab_link": true
    },
    "kernelspec": {
      "name": "python3",
      "display_name": "Python 3"
    },
    "language_info": {
      "name": "python"
    }
  },
  "cells": [
    {
      "cell_type": "markdown",
      "metadata": {
        "id": "view-in-github",
        "colab_type": "text"
      },
      "source": [
        "<a href=\"https://colab.research.google.com/github/sitthatkaja/DWDM21/blob/main/Distance_Numpy.ipynb\" target=\"_parent\"><img src=\"https://colab.research.google.com/assets/colab-badge.svg\" alt=\"Open In Colab\"/></a>"
      ]
    },
    {
      "cell_type": "code",
      "metadata": {
        "id": "FHYg98dKkLQk"
      },
      "source": [
        "import numpy as np"
      ],
      "execution_count": 1,
      "outputs": []
    },
    {
      "cell_type": "markdown",
      "metadata": {
        "id": "4SiAhFh4kS_2"
      },
      "source": [
        "## **Numpy**\n",
        "- สร้าง Numpy Array"
      ]
    },
    {
      "cell_type": "code",
      "metadata": {
        "id": "XHQZQz43kZIi"
      },
      "source": [
        "np_a = np.array([[1,2,3],[4,5,6]])  #สร้าง numpy array ที่มี 2 แถว 3 หลัก"
      ],
      "execution_count": 2,
      "outputs": []
    },
    {
      "cell_type": "code",
      "metadata": {
        "colab": {
          "base_uri": "https://localhost:8080/"
        },
        "id": "HMBpZkC6kalf",
        "outputId": "8650e2b2-39ea-4b85-e1d8-1bd56e85cc62"
      },
      "source": [
        "np_a"
      ],
      "execution_count": 3,
      "outputs": [
        {
          "output_type": "execute_result",
          "data": {
            "text/plain": [
              "array([[1, 2, 3],\n",
              "       [4, 5, 6]])"
            ]
          },
          "metadata": {},
          "execution_count": 3
        }
      ]
    },
    {
      "cell_type": "code",
      "metadata": {
        "colab": {
          "base_uri": "https://localhost:8080/"
        },
        "id": "_wa5hBWKkcDO",
        "outputId": "f9162ea8-8afb-45e6-a1e0-ffd9c089ab99"
      },
      "source": [
        "np_a.shape"
      ],
      "execution_count": 4,
      "outputs": [
        {
          "output_type": "execute_result",
          "data": {
            "text/plain": [
              "(2, 3)"
            ]
          },
          "metadata": {},
          "execution_count": 4
        }
      ]
    },
    {
      "cell_type": "code",
      "metadata": {
        "id": "xbDH-rEYkdUk"
      },
      "source": [
        "np_b = np.array([[1,4],[2,5],[3,6]])"
      ],
      "execution_count": 5,
      "outputs": []
    },
    {
      "cell_type": "code",
      "metadata": {
        "colab": {
          "base_uri": "https://localhost:8080/"
        },
        "id": "xIaiVSFtkeWG",
        "outputId": "04db1502-2405-41e4-d999-cf0795bbc598"
      },
      "source": [
        "np_b"
      ],
      "execution_count": 6,
      "outputs": [
        {
          "output_type": "execute_result",
          "data": {
            "text/plain": [
              "array([[1, 4],\n",
              "       [2, 5],\n",
              "       [3, 6]])"
            ]
          },
          "metadata": {},
          "execution_count": 6
        }
      ]
    },
    {
      "cell_type": "markdown",
      "metadata": {
        "id": "O-X-ZWKfkgAr"
      },
      "source": [
        "## **matrix transpose**"
      ]
    },
    {
      "cell_type": "code",
      "metadata": {
        "colab": {
          "base_uri": "https://localhost:8080/"
        },
        "id": "R91uZcrUkjha",
        "outputId": "8cda3430-f10d-43a0-f167-a161d07765b7"
      },
      "source": [
        "np_a.T"
      ],
      "execution_count": 7,
      "outputs": [
        {
          "output_type": "execute_result",
          "data": {
            "text/plain": [
              "array([[1, 4],\n",
              "       [2, 5],\n",
              "       [3, 6]])"
            ]
          },
          "metadata": {},
          "execution_count": 7
        }
      ]
    },
    {
      "cell_type": "markdown",
      "metadata": {
        "id": "uOouWtbMklYF"
      },
      "source": [
        "## **สร้าง Matrix เริ่มต้น (Zeros,one)**"
      ]
    },
    {
      "cell_type": "code",
      "metadata": {
        "id": "5_C9JSkpkp83"
      },
      "source": [
        "np_z = np.zeros((4,5))"
      ],
      "execution_count": 8,
      "outputs": []
    },
    {
      "cell_type": "code",
      "metadata": {
        "colab": {
          "base_uri": "https://localhost:8080/"
        },
        "id": "iulkjn6xkrTA",
        "outputId": "2cbc7aba-9812-4c55-c71d-75520f0de2f0"
      },
      "source": [
        "np_z"
      ],
      "execution_count": 9,
      "outputs": [
        {
          "output_type": "execute_result",
          "data": {
            "text/plain": [
              "array([[0., 0., 0., 0., 0.],\n",
              "       [0., 0., 0., 0., 0.],\n",
              "       [0., 0., 0., 0., 0.],\n",
              "       [0., 0., 0., 0., 0.]])"
            ]
          },
          "metadata": {},
          "execution_count": 9
        }
      ]
    },
    {
      "cell_type": "code",
      "metadata": {
        "colab": {
          "base_uri": "https://localhost:8080/"
        },
        "id": "g_zMAdQvkswf",
        "outputId": "e384d4f0-b371-4c28-ffbf-2f7d1fc857c8"
      },
      "source": [
        "np_o = np.ones((5,6))\n",
        "np_o"
      ],
      "execution_count": 10,
      "outputs": [
        {
          "output_type": "execute_result",
          "data": {
            "text/plain": [
              "array([[1., 1., 1., 1., 1., 1.],\n",
              "       [1., 1., 1., 1., 1., 1.],\n",
              "       [1., 1., 1., 1., 1., 1.],\n",
              "       [1., 1., 1., 1., 1., 1.],\n",
              "       [1., 1., 1., 1., 1., 1.]])"
            ]
          },
          "metadata": {},
          "execution_count": 10
        }
      ]
    },
    {
      "cell_type": "code",
      "metadata": {
        "colab": {
          "base_uri": "https://localhost:8080/"
        },
        "id": "N07lfwRfkubz",
        "outputId": "64e4349e-2be2-456b-a4a5-b74e7674b607"
      },
      "source": [
        "np_200 = 200 * np.ones((4,7))\n",
        "np_200"
      ],
      "execution_count": 11,
      "outputs": [
        {
          "output_type": "execute_result",
          "data": {
            "text/plain": [
              "array([[200., 200., 200., 200., 200., 200., 200.],\n",
              "       [200., 200., 200., 200., 200., 200., 200.],\n",
              "       [200., 200., 200., 200., 200., 200., 200.],\n",
              "       [200., 200., 200., 200., 200., 200., 200.]])"
            ]
          },
          "metadata": {},
          "execution_count": 11
        }
      ]
    },
    {
      "cell_type": "markdown",
      "metadata": {
        "id": "9TaGiFYSkv_C"
      },
      "source": [
        "##  **สร้าง matrix random**"
      ]
    },
    {
      "cell_type": "code",
      "metadata": {
        "colab": {
          "base_uri": "https://localhost:8080/"
        },
        "id": "sk_tmyqzkzUf",
        "outputId": "5a61b557-e1ed-4e1a-fddf-74d86f7631d2"
      },
      "source": [
        "np_random = np.random.randn(5,5)\n",
        "np_random"
      ],
      "execution_count": 12,
      "outputs": [
        {
          "output_type": "execute_result",
          "data": {
            "text/plain": [
              "array([[-0.25667379, -1.51137515,  0.25800009,  1.62470788, -0.469165  ],\n",
              "       [ 0.29483829,  1.02869362,  1.38548932, -0.0311365 , -0.38354748],\n",
              "       [ 1.10888243,  0.47861055, -0.86490764,  0.44731824,  0.46984159],\n",
              "       [ 0.18007381,  0.12824439, -0.60443225,  0.63994181,  1.19367177],\n",
              "       [ 1.74780596,  1.44585413,  1.06713051, -0.69741183,  1.2844498 ]])"
            ]
          },
          "metadata": {},
          "execution_count": 12
        }
      ]
    },
    {
      "cell_type": "code",
      "metadata": {
        "colab": {
          "base_uri": "https://localhost:8080/"
        },
        "id": "ZxT-LLR2k1Ys",
        "outputId": "953d95ab-a1fb-470e-cd78-1e6051078201"
      },
      "source": [
        "2 + (5*np.random.randn(3,3))"
      ],
      "execution_count": 13,
      "outputs": [
        {
          "output_type": "execute_result",
          "data": {
            "text/plain": [
              "array([[ 3.91687783,  8.75817803, -6.38834115],\n",
              "       [ 5.23964977,  2.80272823,  0.48992808],\n",
              "       [ 0.30746987, -1.31177655,  9.09742698]])"
            ]
          },
          "metadata": {},
          "execution_count": 13
        }
      ]
    },
    {
      "cell_type": "markdown",
      "metadata": {
        "id": "UcD6xj8ak2x2"
      },
      "source": [
        "- random(int)"
      ]
    },
    {
      "cell_type": "code",
      "metadata": {
        "colab": {
          "base_uri": "https://localhost:8080/"
        },
        "id": "HJTmCm-nk5ZT",
        "outputId": "fcfc9246-75a4-48ab-ddf7-efeafc685fbd"
      },
      "source": [
        "np.random.randint(5,11,(4,5))"
      ],
      "execution_count": 14,
      "outputs": [
        {
          "output_type": "execute_result",
          "data": {
            "text/plain": [
              "array([[ 7,  5, 10,  6, 10],\n",
              "       [10, 10,  7,  7,  7],\n",
              "       [ 7,  8,  5, 10,  5],\n",
              "       [10,  6,  9,  5,  8]])"
            ]
          },
          "metadata": {},
          "execution_count": 14
        }
      ]
    },
    {
      "cell_type": "markdown",
      "metadata": {
        "id": "wRtqw9fUZriy"
      },
      "source": [
        "matrix properties"
      ]
    },
    {
      "cell_type": "code",
      "metadata": {
        "colab": {
          "base_uri": "https://localhost:8080/"
        },
        "id": "mWvevvu7ZtSq",
        "outputId": "3475ec22-0e3a-4313-bc32-fc714d8bd6e7"
      },
      "source": [
        "np_a"
      ],
      "execution_count": 15,
      "outputs": [
        {
          "output_type": "execute_result",
          "data": {
            "text/plain": [
              "array([[1, 2, 3],\n",
              "       [4, 5, 6]])"
            ]
          },
          "metadata": {},
          "execution_count": 15
        }
      ]
    },
    {
      "cell_type": "code",
      "metadata": {
        "colab": {
          "base_uri": "https://localhost:8080/"
        },
        "id": "-bwqOMRSZvbw",
        "outputId": "b6fe04a8-04cb-40f8-e58c-c2f5417b442d"
      },
      "source": [
        "np_a.T"
      ],
      "execution_count": 16,
      "outputs": [
        {
          "output_type": "execute_result",
          "data": {
            "text/plain": [
              "array([[1, 4],\n",
              "       [2, 5],\n",
              "       [3, 6]])"
            ]
          },
          "metadata": {},
          "execution_count": 16
        }
      ]
    },
    {
      "cell_type": "code",
      "metadata": {
        "colab": {
          "base_uri": "https://localhost:8080/"
        },
        "id": "Bx2qC416ZxJl",
        "outputId": "bfcfb295-8d14-4a83-ef30-9e6534db1857"
      },
      "source": [
        "1 + np_a"
      ],
      "execution_count": 17,
      "outputs": [
        {
          "output_type": "execute_result",
          "data": {
            "text/plain": [
              "array([[2, 3, 4],\n",
              "       [5, 6, 7]])"
            ]
          },
          "metadata": {},
          "execution_count": 17
        }
      ]
    },
    {
      "cell_type": "code",
      "metadata": {
        "colab": {
          "base_uri": "https://localhost:8080/"
        },
        "id": "St9g7zcfZyvv",
        "outputId": "c12ed6fa-d66a-4a09-eddc-9eb628538919"
      },
      "source": [
        "2 * np_a"
      ],
      "execution_count": 18,
      "outputs": [
        {
          "output_type": "execute_result",
          "data": {
            "text/plain": [
              "array([[ 2,  4,  6],\n",
              "       [ 8, 10, 12]])"
            ]
          },
          "metadata": {},
          "execution_count": 18
        }
      ]
    },
    {
      "cell_type": "code",
      "metadata": {
        "colab": {
          "base_uri": "https://localhost:8080/"
        },
        "id": "YzMnanHIZ0Fr",
        "outputId": "781f4f1e-525f-48bf-8d5f-971a49ea3790"
      },
      "source": [
        "np_c = np.array([[6,5,4],[3,2,1]])\n",
        "np_c"
      ],
      "execution_count": 19,
      "outputs": [
        {
          "output_type": "execute_result",
          "data": {
            "text/plain": [
              "array([[6, 5, 4],\n",
              "       [3, 2, 1]])"
            ]
          },
          "metadata": {},
          "execution_count": 19
        }
      ]
    },
    {
      "cell_type": "code",
      "metadata": {
        "colab": {
          "base_uri": "https://localhost:8080/"
        },
        "id": "D_rcSProZ1Zj",
        "outputId": "8da66a71-e7b8-4569-b320-dfb2eb54d930"
      },
      "source": [
        "np_a + np_c"
      ],
      "execution_count": 20,
      "outputs": [
        {
          "output_type": "execute_result",
          "data": {
            "text/plain": [
              "array([[7, 7, 7],\n",
              "       [7, 7, 7]])"
            ]
          },
          "metadata": {},
          "execution_count": 20
        }
      ]
    },
    {
      "cell_type": "code",
      "metadata": {
        "colab": {
          "base_uri": "https://localhost:8080/"
        },
        "id": "m-dzw4zqZ65O",
        "outputId": "40c8c3e8-198e-4282-db4e-b8899722d469"
      },
      "source": [
        "\n",
        "np_a.shape"
      ],
      "execution_count": 21,
      "outputs": [
        {
          "output_type": "execute_result",
          "data": {
            "text/plain": [
              "(2, 3)"
            ]
          },
          "metadata": {},
          "execution_count": 21
        }
      ]
    },
    {
      "cell_type": "code",
      "metadata": {
        "colab": {
          "base_uri": "https://localhost:8080/"
        },
        "id": "ZREj-CbFZ8eP",
        "outputId": "ec512140-30f9-449c-a930-f4c63ad645d0"
      },
      "source": [
        "np_c.shape"
      ],
      "execution_count": 22,
      "outputs": [
        {
          "output_type": "execute_result",
          "data": {
            "text/plain": [
              "(2, 3)"
            ]
          },
          "metadata": {},
          "execution_count": 22
        }
      ]
    },
    {
      "cell_type": "code",
      "metadata": {
        "colab": {
          "base_uri": "https://localhost:8080/"
        },
        "id": "fpoyqlJqZ9xV",
        "outputId": "f39e222a-842c-40c0-d408-7b935a145d5c"
      },
      "source": [
        "np_c.T.shape"
      ],
      "execution_count": 23,
      "outputs": [
        {
          "output_type": "execute_result",
          "data": {
            "text/plain": [
              "(3, 2)"
            ]
          },
          "metadata": {},
          "execution_count": 23
        }
      ]
    },
    {
      "cell_type": "code",
      "metadata": {
        "colab": {
          "base_uri": "https://localhost:8080/"
        },
        "id": "7aZmlZsIZ_ri",
        "outputId": "ff06e80e-e9e2-4b12-ed57-e02379435d7a"
      },
      "source": [
        "np.dot(np_a,np_c.T) "
      ],
      "execution_count": 24,
      "outputs": [
        {
          "output_type": "execute_result",
          "data": {
            "text/plain": [
              "array([[28, 10],\n",
              "       [73, 28]])"
            ]
          },
          "metadata": {},
          "execution_count": 24
        }
      ]
    },
    {
      "cell_type": "markdown",
      "metadata": {
        "id": "DaQNbqFMaBLC"
      },
      "source": [
        "\n",
        "Indexing & Slicing"
      ]
    },
    {
      "cell_type": "code",
      "metadata": {
        "colab": {
          "base_uri": "https://localhost:8080/"
        },
        "id": "Vbbyo8CMaH2_",
        "outputId": "d842f4a4-05ad-49a3-ef02-32347584b94c"
      },
      "source": [
        "np_a"
      ],
      "execution_count": 25,
      "outputs": [
        {
          "output_type": "execute_result",
          "data": {
            "text/plain": [
              "array([[1, 2, 3],\n",
              "       [4, 5, 6]])"
            ]
          },
          "metadata": {},
          "execution_count": 25
        }
      ]
    },
    {
      "cell_type": "code",
      "metadata": {
        "colab": {
          "base_uri": "https://localhost:8080/"
        },
        "id": "vafrspwqaJ9T",
        "outputId": "e71f45d7-0d0d-44a3-9e76-d08c6ddf7f96"
      },
      "source": [
        "np_a[1,1]"
      ],
      "execution_count": 26,
      "outputs": [
        {
          "output_type": "execute_result",
          "data": {
            "text/plain": [
              "5"
            ]
          },
          "metadata": {},
          "execution_count": 26
        }
      ]
    },
    {
      "cell_type": "code",
      "metadata": {
        "colab": {
          "base_uri": "https://localhost:8080/"
        },
        "id": "bpZS0rGSaLb3",
        "outputId": "414ae3f2-9d20-48c8-cc3f-7ea394733ba9"
      },
      "source": [
        "np_a[:2,:2]"
      ],
      "execution_count": 27,
      "outputs": [
        {
          "output_type": "execute_result",
          "data": {
            "text/plain": [
              "array([[1, 2],\n",
              "       [4, 5]])"
            ]
          },
          "metadata": {},
          "execution_count": 27
        }
      ]
    },
    {
      "cell_type": "code",
      "metadata": {
        "colab": {
          "base_uri": "https://localhost:8080/"
        },
        "id": "Rg7ZisK2aTue",
        "outputId": "9c664fc0-ecd4-45d7-ee76-2f16f1bd18fb"
      },
      "source": [
        "np_a[0,:]"
      ],
      "execution_count": 28,
      "outputs": [
        {
          "output_type": "execute_result",
          "data": {
            "text/plain": [
              "array([1, 2, 3])"
            ]
          },
          "metadata": {},
          "execution_count": 28
        }
      ]
    },
    {
      "cell_type": "markdown",
      "metadata": {
        "id": "z_cKpxmOaVCp"
      },
      "source": [
        "Useful functions"
      ]
    },
    {
      "cell_type": "code",
      "metadata": {
        "colab": {
          "base_uri": "https://localhost:8080/"
        },
        "id": "ozQ8B8oQaWIa",
        "outputId": "b69ee4bd-6a31-42b8-c2aa-b0f802f31abd"
      },
      "source": [
        "np_a"
      ],
      "execution_count": 29,
      "outputs": [
        {
          "output_type": "execute_result",
          "data": {
            "text/plain": [
              "array([[1, 2, 3],\n",
              "       [4, 5, 6]])"
            ]
          },
          "metadata": {},
          "execution_count": 29
        }
      ]
    },
    {
      "cell_type": "code",
      "metadata": {
        "colab": {
          "base_uri": "https://localhost:8080/"
        },
        "id": "egDK1jtkaX9U",
        "outputId": "58b8bd38-5684-4185-917a-f4363fb99424"
      },
      "source": [
        "\n",
        "np.sum(np_a)"
      ],
      "execution_count": 30,
      "outputs": [
        {
          "output_type": "execute_result",
          "data": {
            "text/plain": [
              "21"
            ]
          },
          "metadata": {},
          "execution_count": 30
        }
      ]
    },
    {
      "cell_type": "code",
      "metadata": {
        "colab": {
          "base_uri": "https://localhost:8080/"
        },
        "id": "n7bUl3uIabNb",
        "outputId": "1903279a-aafc-46cc-8c54-1c5f71f7078c"
      },
      "source": [
        "np.sum(np_a,axis=0)  # axis 0 ก็คือรวมเลขในแต่ละแถว"
      ],
      "execution_count": 31,
      "outputs": [
        {
          "output_type": "execute_result",
          "data": {
            "text/plain": [
              "array([5, 7, 9])"
            ]
          },
          "metadata": {},
          "execution_count": 31
        }
      ]
    },
    {
      "cell_type": "code",
      "metadata": {
        "colab": {
          "base_uri": "https://localhost:8080/"
        },
        "id": "tCqgFksqadBn",
        "outputId": "285b3752-8716-4d82-f4a0-945270dc5ee3"
      },
      "source": [
        "np.sum(np_a,axis=1)  # axis 1 ก็คือรวมเลขในแต่ละหลัก"
      ],
      "execution_count": 32,
      "outputs": [
        {
          "output_type": "execute_result",
          "data": {
            "text/plain": [
              "array([ 6, 15])"
            ]
          },
          "metadata": {},
          "execution_count": 32
        }
      ]
    },
    {
      "cell_type": "code",
      "metadata": {
        "colab": {
          "base_uri": "https://localhost:8080/"
        },
        "id": "2Wygf5ggaer-",
        "outputId": "bbdd83cd-83ae-46f9-d5b1-b0f464c89bb1"
      },
      "source": [
        "np.mean(np_a)"
      ],
      "execution_count": 33,
      "outputs": [
        {
          "output_type": "execute_result",
          "data": {
            "text/plain": [
              "3.5"
            ]
          },
          "metadata": {},
          "execution_count": 33
        }
      ]
    },
    {
      "cell_type": "code",
      "metadata": {
        "colab": {
          "base_uri": "https://localhost:8080/"
        },
        "id": "Eubvz3NwagNE",
        "outputId": "297b1c9d-93ac-4715-a8ab-39b67798cefd"
      },
      "source": [
        "np.mean(np_a,axis=0)  #หา mean ของ column"
      ],
      "execution_count": 34,
      "outputs": [
        {
          "output_type": "execute_result",
          "data": {
            "text/plain": [
              "array([2.5, 3.5, 4.5])"
            ]
          },
          "metadata": {},
          "execution_count": 34
        }
      ]
    },
    {
      "cell_type": "markdown",
      "metadata": {
        "id": "YKTjtlGOah5I"
      },
      "source": [
        "วนลูปเอง\n",
        "\n",
        "\n",
        "summation"
      ]
    },
    {
      "cell_type": "code",
      "metadata": {
        "colab": {
          "base_uri": "https://localhost:8080/"
        },
        "id": "nKyiStOrai2d",
        "outputId": "e9e49e2a-66ee-4806-8257-f278133156ee"
      },
      "source": [
        "np_a.shape"
      ],
      "execution_count": 35,
      "outputs": [
        {
          "output_type": "execute_result",
          "data": {
            "text/plain": [
              "(2, 3)"
            ]
          },
          "metadata": {},
          "execution_count": 35
        }
      ]
    },
    {
      "cell_type": "code",
      "metadata": {
        "colab": {
          "base_uri": "https://localhost:8080/"
        },
        "id": "XNwJl-SpamLW",
        "outputId": "7e41e356-1d8c-43c3-9f4a-280f6534fddf"
      },
      "source": [
        "sum_all = 0\n",
        "\n",
        "for row in range(np_a.shape[0]):\n",
        "    for col in range(np_a.shape[1]):\n",
        "        sum_all = sum_all + np_a[row,col]\n",
        "        print(f'we are at row={row},col={col} np_a[{row},{col}]={np_a[row,col]}  sum_all={sum_all}')\n",
        "print(sum_all)"
      ],
      "execution_count": 36,
      "outputs": [
        {
          "output_type": "stream",
          "name": "stdout",
          "text": [
            "we are at row=0,col=0 np_a[0,0]=1  sum_all=1\n",
            "we are at row=0,col=1 np_a[0,1]=2  sum_all=3\n",
            "we are at row=0,col=2 np_a[0,2]=3  sum_all=6\n",
            "we are at row=1,col=0 np_a[1,0]=4  sum_all=10\n",
            "we are at row=1,col=1 np_a[1,1]=5  sum_all=15\n",
            "we are at row=1,col=2 np_a[1,2]=6  sum_all=21\n",
            "21\n"
          ]
        }
      ]
    },
    {
      "cell_type": "code",
      "metadata": {
        "colab": {
          "base_uri": "https://localhost:8080/"
        },
        "id": "cp2td5TAaoMu",
        "outputId": "b757b16d-8a01-4001-bd0d-d9c7c8178f86"
      },
      "source": [
        "sum_all = np.zeros(np_a.shape[1])\n",
        "\n",
        "for row in range(np_a.shape[0]):\n",
        "    for col in range(np_a.shape[1]):\n",
        "        sum_all[col] = sum_all[col] + np_a[row,col]\n",
        "print(sum_all)"
      ],
      "execution_count": 37,
      "outputs": [
        {
          "output_type": "stream",
          "name": "stdout",
          "text": [
            "[5. 7. 9.]\n"
          ]
        }
      ]
    },
    {
      "cell_type": "markdown",
      "metadata": {
        "id": "-_rn8GhVaqyt"
      },
      "source": [
        "วากาเมะ ข้อ 9 \n",
        "\n",
        "วนลูปหาค่า np.min(np.a,axis=0)"
      ]
    },
    {
      "cell_type": "code",
      "metadata": {
        "id": "DmHBxVGghsHT",
        "colab": {
          "base_uri": "https://localhost:8080/"
        },
        "outputId": "6411e50a-aa75-44f4-ab7b-bf6649923206"
      },
      "source": [
        "np.min(np_a,axis=0)"
      ],
      "execution_count": 40,
      "outputs": [
        {
          "output_type": "execute_result",
          "data": {
            "text/plain": [
              "array([1, 2, 3])"
            ]
          },
          "metadata": {},
          "execution_count": 40
        }
      ]
    },
    {
      "cell_type": "markdown",
      "metadata": {
        "id": "IJIv6U7Jkssp"
      },
      "source": [
        "## เดียวมาเฉลยที่หลัง"
      ]
    },
    {
      "cell_type": "markdown",
      "metadata": {
        "id": "q_A6FJvSk8pB"
      },
      "source": [
        "##Distance Matrix"
      ]
    },
    {
      "cell_type": "code",
      "metadata": {
        "colab": {
          "base_uri": "https://localhost:8080/"
        },
        "id": "SsxGn4Kbk_p9",
        "outputId": "02e0098f-33b5-4ca9-bd85-96c92604733a"
      },
      "source": [
        "data1 = np.array([[1,2],[3,5],[2,0],[4,5]])\n",
        "data1"
      ],
      "execution_count": 42,
      "outputs": [
        {
          "output_type": "execute_result",
          "data": {
            "text/plain": [
              "array([[1, 2],\n",
              "       [3, 5],\n",
              "       [2, 0],\n",
              "       [4, 5]])"
            ]
          },
          "metadata": {},
          "execution_count": 42
        }
      ]
    },
    {
      "cell_type": "code",
      "metadata": {
        "colab": {
          "base_uri": "https://localhost:8080/",
          "height": 282
        },
        "id": "DhiGQAHnlCT5",
        "outputId": "ffba9299-d34b-4540-ef2f-b5cec70ac0c3"
      },
      "source": [
        "from matplotlib import pyplot as plt\n",
        "plt.scatter(data1[:,0],data1[:,1])"
      ],
      "execution_count": 43,
      "outputs": [
        {
          "output_type": "execute_result",
          "data": {
            "text/plain": [
              "<matplotlib.collections.PathCollection at 0x7fbb69e57250>"
            ]
          },
          "metadata": {},
          "execution_count": 43
        },
        {
          "output_type": "display_data",
          "data": {
            "image/png": "[encoded data removed]",
            "text/plain": [
              "<Figure size 432x288 with 1 Axes>"
            ]
          },
          "metadata": {
            "needs_background": "light"
          }
        }
      ]
    },
    {
      "cell_type": "markdown",
      "metadata": {
        "id": "rSRrCehilD8j"
      },
      "source": [
        "Euclidean Distance (L2-norm)\n",
        "\n",
        "dist(P1,P2)"
      ]
    },
    {
      "cell_type": "code",
      "metadata": {
        "colab": {
          "base_uri": "https://localhost:8080/"
        },
        "id": "nookEWIflHnu",
        "outputId": "1ae9efd8-128e-4502-d123-7e79f79f846e"
      },
      "source": [
        "dist_p1_p2 = np.sqrt(np.power(data1[0,0]-data1[1,0],2) + np.power(data1[0,1]-data1[1,1],2))\n",
        "dist_p1_p2"
      ],
      "execution_count": 44,
      "outputs": [
        {
          "output_type": "execute_result",
          "data": {
            "text/plain": [
              "3.605551275463989"
            ]
          },
          "metadata": {},
          "execution_count": 44
        }
      ]
    },
    {
      "cell_type": "code",
      "metadata": {
        "colab": {
          "base_uri": "https://localhost:8080/"
        },
        "id": "3m3Isd8OlIxX",
        "outputId": "d22fe814-29df-42a9-ee3d-7aab04a1b5b0"
      },
      "source": [
        "dist_p1_p2 = np.power(np.power(data1[0,0]-data1[1,0],2) + np.power(data1[0,1]-data1[1,1],2),0.5)\n",
        "dist_p1_p2"
      ],
      "execution_count": 45,
      "outputs": [
        {
          "output_type": "execute_result",
          "data": {
            "text/plain": [
              "3.605551275463989"
            ]
          },
          "metadata": {},
          "execution_count": 45
        }
      ]
    },
    {
      "cell_type": "markdown",
      "metadata": {
        "id": "jNojJJ8ulKYv"
      },
      "source": [
        "\n",
        "dist(P2,P4)"
      ]
    },
    {
      "cell_type": "code",
      "metadata": {
        "colab": {
          "base_uri": "https://localhost:8080/"
        },
        "id": "4K8aZDWPlL_4",
        "outputId": "8201ac55-897a-4190-f93f-b3fee7d38954"
      },
      "source": [
        "dist_p2_p4 = np.sqrt(np.power(data1[1,0]-data1[3,0],2) + np.power(data1[1,1]-data1[3,1],2))\n",
        "dist_p2_p4"
      ],
      "execution_count": 46,
      "outputs": [
        {
          "output_type": "execute_result",
          "data": {
            "text/plain": [
              "1.0"
            ]
          },
          "metadata": {},
          "execution_count": 46
        }
      ]
    },
    {
      "cell_type": "markdown",
      "metadata": {
        "id": "ZOV9qAU6lNWu"
      },
      "source": [
        "Distance function\n",
        "\n",
        "p1 = [x,y]\n",
        "\n",
        "dim = 2"
      ]
    },
    {
      "cell_type": "code",
      "metadata": {
        "id": "_bpYL5oNlS9e"
      },
      "source": [
        "\n",
        "def dist_l2_2(p1,p2):\n",
        "    return np.sqrt(np.power(p1[0]-p2[0],2) + np.power(p1[1]-p2[1],2))"
      ],
      "execution_count": 48,
      "outputs": []
    },
    {
      "cell_type": "code",
      "metadata": {
        "colab": {
          "base_uri": "https://localhost:8080/"
        },
        "id": "ZBakm6tclVDa",
        "outputId": "386aad48-6bdb-4b70-8103-eac1d66b0757"
      },
      "source": [
        "dist_l2_2(data1[0,:],data1[1,:])"
      ],
      "execution_count": 49,
      "outputs": [
        {
          "output_type": "execute_result",
          "data": {
            "text/plain": [
              "3.605551275463989"
            ]
          },
          "metadata": {},
          "execution_count": 49
        }
      ]
    },
    {
      "cell_type": "code",
      "metadata": {
        "colab": {
          "base_uri": "https://localhost:8080/"
        },
        "id": "rUCUQEUnlWdZ",
        "outputId": "cd879a3f-b886-4532-8c45-597a0e34d40d"
      },
      "source": [
        "dist_l2_2(data1[1,:],data1[3,:])"
      ],
      "execution_count": 50,
      "outputs": [
        {
          "output_type": "execute_result",
          "data": {
            "text/plain": [
              "1.0"
            ]
          },
          "metadata": {},
          "execution_count": 50
        }
      ]
    },
    {
      "cell_type": "markdown",
      "metadata": {
        "id": "i4njmlhIlX0s"
      },
      "source": [
        "1.0\n",
        "\n",
        "dim = n"
      ]
    },
    {
      "cell_type": "code",
      "metadata": {
        "id": "un_lSRoxlaa4"
      },
      "source": [
        "\n",
        "def dist_l2_n(p1,p2):\n",
        "    sum = 0\n",
        "    for i in range(len(p1)):\n",
        "        sum = sum + np.power(p1[i]-p2[i],2)\n",
        "    return np.sqrt(sum)"
      ],
      "execution_count": 51,
      "outputs": []
    },
    {
      "cell_type": "code",
      "metadata": {
        "colab": {
          "base_uri": "https://localhost:8080/"
        },
        "id": "86q84Ziylc0z",
        "outputId": "5b01c8af-1025-478e-e8ea-accf132a2ad6"
      },
      "source": [
        "dist_l2_n(data1[0,:],data1[1,:])"
      ],
      "execution_count": 52,
      "outputs": [
        {
          "output_type": "execute_result",
          "data": {
            "text/plain": [
              "3.605551275463989"
            ]
          },
          "metadata": {},
          "execution_count": 52
        }
      ]
    },
    {
      "cell_type": "markdown",
      "metadata": {
        "id": "hkH05OgblfPg"
      },
      "source": [
        "\n",
        "Manhattan Distance (L1-norm)\n",
        "\n",
        "\n",
        "\n"
      ]
    },
    {
      "cell_type": "markdown",
      "metadata": {
        "id": "mkS8OI8Mliy0"
      },
      "source": [
        "\n",
        "##quiz6\n",
        "\n",
        "เขียน function คำนวณ manhattan distance ของ ข้อมูล 2 dimensions"
      ]
    },
    {
      "cell_type": "code",
      "metadata": {
        "id": "ZBB38esul3Zy"
      },
      "source": [
        "\n",
        "def dist_l2_q(p1,p2):\n",
        "   return np.abs((p1[1] - p2[1])) + np.abs((p1[1] - p2[0]))"
      ],
      "execution_count": 65,
      "outputs": []
    },
    {
      "cell_type": "code",
      "metadata": {
        "colab": {
          "base_uri": "https://localhost:8080/"
        },
        "id": "sl_hXSemmBG3",
        "outputId": "9e9cbdf1-2c48-4838-8dd1-e90ffba5cf82"
      },
      "source": [
        "dist_l2_q(data1[0,:],data1[1,:])"
      ],
      "execution_count": 66,
      "outputs": [
        {
          "output_type": "execute_result",
          "data": {
            "text/plain": [
              "4"
            ]
          },
          "metadata": {},
          "execution_count": 66
        }
      ]
    }
  ]
}