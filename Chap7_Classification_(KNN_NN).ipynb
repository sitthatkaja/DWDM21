{
  "nbformat": 4,
  "nbformat_minor": 0,
  "metadata": {
    "colab": {
      "name": "Chap7_Classification_(KNN_NN).ipynb",
      "provenance": [],
      "authorship_tag": "ABX9TyPdcKjHJsFCcRnvwgqYetz/",
      "include_colab_link": true
    },
    "kernelspec": {
      "name": "python3",
      "display_name": "Python 3"
    },
    "language_info": {
      "name": "python"
    }
  },
  "cells": [
    {
      "cell_type": "markdown",
      "metadata": {
        "id": "view-in-github",
        "colab_type": "text"
      },
      "source": [
        "<a href=\"https://colab.research.google.com/github/sitthatkaja/DWDM21/blob/main/Chap7_Classification_(KNN_NN).ipynb\" target=\"_parent\"><img src=\"https://colab.research.google.com/assets/colab-badge.svg\" alt=\"Open In Colab\"/></a>"
      ]
    },
    {
      "cell_type": "markdown",
      "metadata": {
        "id": "V2035Jn2KyYv"
      },
      "source": [
        "## **CHAPTER 7 : Classification (KNN & Neural Network)**"
      ]
    },
    {
      "cell_type": "markdown",
      "metadata": {
        "id": "nK9buIWLMNaf"
      },
      "source": [
        "**KNN (K-nearest Neighbor)**"
      ]
    },
    {
      "cell_type": "markdown",
      "metadata": {
        "id": "GAAPa8QWd2_K"
      },
      "source": [
        "Load data"
      ]
    },
    {
      "cell_type": "code",
      "metadata": {
        "id": "qdozgmWKdz8h"
      },
      "source": [
        "\n",
        "from sklearn import datasets\n",
        "\n",
        "digit_data = datasets.load_digits()\n",
        "\n",
        "X = digit_data['data']\n",
        "y = digit_data['target']"
      ],
      "execution_count": 1,
      "outputs": []
    },
    {
      "cell_type": "markdown",
      "metadata": {
        "id": "QIOloF40d6h2"
      },
      "source": [
        "Split Data"
      ]
    },
    {
      "cell_type": "code",
      "metadata": {
        "id": "-ez1CF0Qd726"
      },
      "source": [
        "from sklearn.model_selection import train_test_split\n",
        "\n",
        "# train-test\n",
        "X_train, X_test, y_train, y_test = train_test_split(X, y, test_size=0.5, random_state=6)\n",
        "\n",
        "# train-validation\n",
        "X_train2, X_val, y_train2, y_val = train_test_split(X_train, y_train, test_size=0.3, random_state=6)"
      ],
      "execution_count": 2,
      "outputs": []
    },
    {
      "cell_type": "markdown",
      "metadata": {
        "id": "ACogfsAld-BL"
      },
      "source": [
        "\n",
        "Train Model ทำการสอน Model"
      ]
    },
    {
      "cell_type": "code",
      "metadata": {
        "id": "45YjbuACeAfI"
      },
      "source": [
        "#import\n",
        "\n",
        "from sklearn.neighbors import KNeighborsClassifier\n",
        "from sklearn.metrics import accuracy_score"
      ],
      "execution_count": 8,
      "outputs": []
    },
    {
      "cell_type": "markdown",
      "metadata": {
        "id": "zeMT2OO4eCDn"
      },
      "source": [
        "\n",
        "knn1 เพื่อนบ้านคนที่ 1"
      ]
    },
    {
      "cell_type": "code",
      "metadata": {
        "colab": {
          "base_uri": "https://localhost:8080/"
        },
        "id": "_y4Xe3FReC9s",
        "outputId": "9a8060d2-7fa4-4801-dc12-31a93776041f"
      },
      "source": [
        "# Define\n",
        "neigh1 = KNeighborsClassifier(n_neighbors=3, weights='uniform')\n",
        "\n",
        "# Train\n",
        "neigh1.fit(X_train2,y_train2)\n",
        "\n",
        "# Test\n",
        "knn1_result = neigh1.predict(X_val)\n",
        "accuracy_score(y_val, knn1_result)"
      ],
      "execution_count": 9,
      "outputs": [
        {
          "output_type": "execute_result",
          "data": {
            "text/plain": [
              "0.9703703703703703"
            ]
          },
          "metadata": {},
          "execution_count": 9
        }
      ]
    },
    {
      "cell_type": "markdown",
      "metadata": {
        "id": "3TCLIk47eEVk"
      },
      "source": [
        "knn2 เพื่อนบ้านคนที่ 2"
      ]
    },
    {
      "cell_type": "code",
      "metadata": {
        "colab": {
          "base_uri": "https://localhost:8080/"
        },
        "id": "lATjndpreFaS",
        "outputId": "1640f115-cfa4-484d-99bb-20ba07707e86"
      },
      "source": [
        "# Define\n",
        "neigh2 = KNeighborsClassifier(n_neighbors=10, weights='distance')\n",
        "\n",
        "# Train\n",
        "neigh2.fit(X_train2,y_train2)\n",
        "\n",
        "# Test\n",
        "knn2_result = neigh2.predict(X_val)\n",
        "accuracy_score(y_val, knn2_result)"
      ],
      "execution_count": 5,
      "outputs": [
        {
          "output_type": "execute_result",
          "data": {
            "text/plain": [
              "0.9703703703703703"
            ]
          },
          "metadata": {},
          "execution_count": 5
        }
      ]
    },
    {
      "cell_type": "markdown",
      "metadata": {
        "id": "q9NbmD3AeGoA"
      },
      "source": [
        "knn3 เพื่อนบ้านคนที่ 3"
      ]
    },
    {
      "cell_type": "code",
      "metadata": {
        "colab": {
          "base_uri": "https://localhost:8080/"
        },
        "id": "QhcOcKz9eIBw",
        "outputId": "b6838a8d-ad65-4cd5-bda4-8782a7dde4ef"
      },
      "source": [
        "\n",
        "# Define\n",
        "neigh3 = KNeighborsClassifier(n_neighbors=1)\n",
        "\n",
        "# Train\n",
        "neigh3.fit(X_train2,y_train2)\n",
        "\n",
        "# Test\n",
        "knn3_result = neigh3.predict(X_val)\n",
        "accuracy_score(y_val, knn3_result)"
      ],
      "execution_count": 6,
      "outputs": [
        {
          "output_type": "execute_result",
          "data": {
            "text/plain": [
              "0.9777777777777777"
            ]
          },
          "metadata": {},
          "execution_count": 6
        }
      ]
    },
    {
      "cell_type": "markdown",
      "metadata": {
        "id": "Z7QdXsIveJXM"
      },
      "source": [
        "\n",
        "Retrain & Evaluate"
      ]
    },
    {
      "cell_type": "code",
      "metadata": {
        "colab": {
          "base_uri": "https://localhost:8080/"
        },
        "id": "6ZFi6ydHeKqQ",
        "outputId": "e0f4dbf1-d67f-4072-e93c-9fbaa169b22a"
      },
      "source": [
        "# Define\n",
        "neigh3_final = KNeighborsClassifier(n_neighbors=1)\n",
        "\n",
        "# Train\n",
        "neigh3_final.fit(X_train,y_train)\n",
        "\n",
        "# Test\n",
        "knn3final_result = neigh3_final.predict(X_test)\n",
        "accuracy_score(y_test, knn3final_result)"
      ],
      "execution_count": 7,
      "outputs": [
        {
          "output_type": "execute_result",
          "data": {
            "text/plain": [
              "0.982202447163515"
            ]
          },
          "metadata": {},
          "execution_count": 7
        }
      ]
    },
    {
      "cell_type": "markdown",
      "metadata": {
        "id": "XD57Q1siMKoi"
      },
      "source": [
        "**Neural Network**"
      ]
    },
    {
      "cell_type": "code",
      "metadata": {
        "id": "c5iddVM3Mizd"
      },
      "source": [
        "#import\n",
        "from sklearn.neural_network import MLPClassifier"
      ],
      "execution_count": 10,
      "outputs": []
    },
    {
      "cell_type": "code",
      "metadata": {
        "id": "-CkSRWNxMlzH"
      },
      "source": [
        "#Define\n",
        "perceptron1 = MLPClassifier(random_state=6, max_iter=2000, hidden_layer_sizes=1,learning_rate_init=0.005)"
      ],
      "execution_count": 11,
      "outputs": []
    },
    {
      "cell_type": "code",
      "metadata": {
        "id": "mbwaBf57MpkI",
        "outputId": "00ed39e7-6f6c-46ac-e5bf-89d0dc387600",
        "colab": {
          "base_uri": "https://localhost:8080/"
        }
      },
      "source": [
        "#Train - Test\n",
        "\n",
        "# Train\n",
        "perceptron1.fit(X_train2,y_train2)\n",
        "\n",
        "# Test\n",
        "ann1_result = perceptron1.predict(X_val)\n",
        "accuracy_score(y_val, ann1_result)"
      ],
      "execution_count": 12,
      "outputs": [
        {
          "output_type": "execute_result",
          "data": {
            "text/plain": [
              "0.2777777777777778"
            ]
          },
          "metadata": {},
          "execution_count": 12
        }
      ]
    },
    {
      "cell_type": "markdown",
      "metadata": {
        "id": "JPohcfk_Myuo"
      },
      "source": [
        "ANN 2"
      ]
    },
    {
      "cell_type": "code",
      "metadata": {
        "id": "FiGg5wbLMx03",
        "outputId": "2297f53d-5556-419e-eb62-ea5d190e0a56",
        "colab": {
          "base_uri": "https://localhost:8080/"
        }
      },
      "source": [
        "perceptron2 = MLPClassifier(random_state=6, max_iter=2000, hidden_layer_sizes=10,learning_rate_init=0.005)\n",
        "\n",
        "# Train\n",
        "perceptron2.fit(X_train2,y_train2)\n",
        "\n",
        "# Test\n",
        "ann2_result = perceptron2.predict(X_val)\n",
        "accuracy_score(y_val, ann2_result)"
      ],
      "execution_count": 13,
      "outputs": [
        {
          "output_type": "execute_result",
          "data": {
            "text/plain": [
              "0.9185185185185185"
            ]
          },
          "metadata": {},
          "execution_count": 13
        }
      ]
    },
    {
      "cell_type": "markdown",
      "metadata": {
        "id": "Ia8JZw1kM6f0"
      },
      "source": [
        "ANN 3"
      ]
    },
    {
      "cell_type": "code",
      "metadata": {
        "id": "_WtL2ucuM2x9",
        "outputId": "1202451e-d1ea-47c0-ba1e-8f9a859a5f4d",
        "colab": {
          "base_uri": "https://localhost:8080/"
        }
      },
      "source": [
        "perceptron3 = MLPClassifier(random_state=6, max_iter=20000, hidden_layer_sizes=10,learning_rate_init=0.001)\n",
        "\n",
        "# Train\n",
        "perceptron3.fit(X_train2,y_train2)\n",
        "\n",
        "# Test\n",
        "ann3_result = perceptron3.predict(X_val)\n",
        "accuracy_score(y_val, ann3_result)"
      ],
      "execution_count": 14,
      "outputs": [
        {
          "output_type": "execute_result",
          "data": {
            "text/plain": [
              "0.9444444444444444"
            ]
          },
          "metadata": {},
          "execution_count": 14
        }
      ]
    }
  ]
}