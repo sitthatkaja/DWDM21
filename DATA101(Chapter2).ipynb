{
  "nbformat": 4,
  "nbformat_minor": 0,
  "metadata": {
    "colab": {
      "name": "DATA101(Chapter2).ipynb",
      "provenance": [],
      "authorship_tag": "ABX9TyNYZqOzA7sMsGfs5DvDXnu1",
      "include_colab_link": true
    },
    "kernelspec": {
      "name": "python3",
      "display_name": "Python 3"
    },
    "language_info": {
      "name": "python"
    }
  },
  "cells": [
    {
      "cell_type": "markdown",
      "metadata": {
        "id": "view-in-github",
        "colab_type": "text"
      },
      "source": [
        "<a href=\"https://colab.research.google.com/github/sitthatkaja/DWDM21/blob/main/DATA101(Chapter2).ipynb\" target=\"_parent\"><img src=\"https://colab.research.google.com/assets/colab-badge.svg\" alt=\"Open In Colab\"/></a>"
      ]
    },
    {
      "cell_type": "markdown",
      "metadata": {
        "id": "Eamjjz7tz6lu"
      },
      "source": [
        "# **DATA101(Chapter2)**\n",
        "\n",
        "*Text ส่วนใหญ่จะเป็นภาษา markdown*\n",
        "\n",
        "***"
      ]
    },
    {
      "cell_type": "markdown",
      "metadata": {
        "id": "S87I38EItooJ"
      },
      "source": [
        "#### **ข้อดีหนึ่งของ python คือมี package สำหรับงานต่างๆมากมาย**\n",
        "\n",
        "ซึ่ง pandas เป็น package สำหรับการทำงานกับข้อมูลที่อยู่ในรูปแบบข้อมูล โดย pandas จะเรียกตารางนั้นว่า dataframe"
      ]
    },
    {
      "cell_type": "code",
      "metadata": {
        "id": "X5R85BzVr67K"
      },
      "source": [
        "import pandas as pd #วิธีเรียกใช้ package = import ชื่อ packages as ชื่อย่อ"
      ],
      "execution_count": 4,
      "outputs": []
    },
    {
      "cell_type": "markdown",
      "metadata": {
        "id": "Klmtm4PbuydG"
      },
      "source": [
        "*ไฟล์หลักในวิชานี้จะเป็น .csv (comma separated values)*\n",
        "\n",
        "*ไฟล์ชนิดนี้เก็บข้อมูลเป็นตารางที่สามารถเข้าใจได้ง่าย*"
      ]
    },
    {
      "cell_type": "code",
      "metadata": {
        "colab": {
          "base_uri": "https://localhost:8080/",
          "height": 141
        },
        "id": "hj9hYXBgvZu2",
        "outputId": "c645a4c1-53fb-4eaf-9b3d-ae7480e6f795"
      },
      "source": [
        "data_df = pd.read_csv('data.csv')\n",
        "data_df"
      ],
      "execution_count": 5,
      "outputs": [
        {
          "output_type": "execute_result",
          "data": {
            "text/html": [
              "<div>\n",
              "<style scoped>\n",
              "    .dataframe tbody tr th:only-of-type {\n",
              "        vertical-align: middle;\n",
              "    }\n",
              "\n",
              "    .dataframe tbody tr th {\n",
              "        vertical-align: top;\n",
              "    }\n",
              "\n",
              "    .dataframe thead th {\n",
              "        text-align: right;\n",
              "    }\n",
              "</style>\n",
              "<table border=\"1\" class=\"dataframe\">\n",
              "  <thead>\n",
              "    <tr style=\"text-align: right;\">\n",
              "      <th></th>\n",
              "      <th>name</th>\n",
              "      <th>age</th>\n",
              "      <th>city</th>\n",
              "    </tr>\n",
              "  </thead>\n",
              "  <tbody>\n",
              "    <tr>\n",
              "      <th>0</th>\n",
              "      <td>tom</td>\n",
              "      <td>27</td>\n",
              "      <td>Khon Kaen</td>\n",
              "    </tr>\n",
              "    <tr>\n",
              "      <th>1</th>\n",
              "      <td>Paul</td>\n",
              "      <td>15</td>\n",
              "      <td>Bangkok</td>\n",
              "    </tr>\n",
              "    <tr>\n",
              "      <th>2</th>\n",
              "      <td>Sarah</td>\n",
              "      <td>49</td>\n",
              "      <td>London</td>\n",
              "    </tr>\n",
              "  </tbody>\n",
              "</table>\n",
              "</div>"
            ],
            "text/plain": [
              "    name  age       city\n",
              "0    tom   27  Khon Kaen\n",
              "1   Paul   15    Bangkok\n",
              "2  Sarah   49     London"
            ]
          },
          "metadata": {
            "tags": []
          },
          "execution_count": 5
        }
      ]
    },
    {
      "cell_type": "markdown",
      "metadata": {
        "id": "fM5obFWTzua5"
      },
      "source": [
        "# **Basic Python**\n",
        "## **Variable**"
      ]
    },
    {
      "cell_type": "markdown",
      "metadata": {
        "id": "JEt5_saX1mKS"
      },
      "source": [
        "***ข้อกำหนดในการตั้งชื่อตัวแปร***\n",
        "\n",
        "- ชื่อห้ามมีเว้นวรรค\n",
        "- ใช้ภาษาอังกฤษ\n",
        "- ตัวเล็กกับตัวใหญ่ แตกต่างกัน (Case sensitive)\n",
        "- ห้ามใช้ตัวเลขเป็นตัวหน้า"
      ]
    },
    {
      "cell_type": "code",
      "metadata": {
        "id": "_9xvNRGw0Sur"
      },
      "source": [
        "variable_a = 12\n",
        "variable_b = 'abcde' #เรียกว่า Quote\n",
        "variable_c = variable_a"
      ],
      "execution_count": 6,
      "outputs": []
    },
    {
      "cell_type": "code",
      "metadata": {
        "colab": {
          "base_uri": "https://localhost:8080/"
        },
        "id": "qtDaO9-S0S33",
        "outputId": "95e8acae-f84b-405a-892d-ca93400626e0"
      },
      "source": [
        "variable_a"
      ],
      "execution_count": 7,
      "outputs": [
        {
          "output_type": "execute_result",
          "data": {
            "text/plain": [
              "12"
            ]
          },
          "metadata": {
            "tags": []
          },
          "execution_count": 7
        }
      ]
    },
    {
      "cell_type": "code",
      "metadata": {
        "colab": {
          "base_uri": "https://localhost:8080/",
          "height": 36
        },
        "id": "Hd3JCzJ31ddL",
        "outputId": "7265aa12-4fa6-424b-ddca-e63c066e3ba1"
      },
      "source": [
        "variable_b"
      ],
      "execution_count": 8,
      "outputs": [
        {
          "output_type": "execute_result",
          "data": {
            "application/vnd.google.colaboratory.intrinsic+json": {
              "type": "string"
            },
            "text/plain": [
              "'abcde'"
            ]
          },
          "metadata": {
            "tags": []
          },
          "execution_count": 8
        }
      ]
    },
    {
      "cell_type": "code",
      "metadata": {
        "colab": {
          "base_uri": "https://localhost:8080/"
        },
        "id": "bdTvpTw-1fSM",
        "outputId": "d30769c7-76f2-42d0-fcc2-df6eedb8a084"
      },
      "source": [
        "variable_c"
      ],
      "execution_count": 9,
      "outputs": [
        {
          "output_type": "execute_result",
          "data": {
            "text/plain": [
              "12"
            ]
          },
          "metadata": {
            "tags": []
          },
          "execution_count": 9
        }
      ]
    },
    {
      "cell_type": "code",
      "metadata": {
        "id": "_0WcIrCK4JYt"
      },
      "source": [
        "variable_a = 12\n",
        "variable_b = 'abcde' #เรียกว่า Quote\n",
        "variable_c = variable_a\n",
        "variable_d = -41.2\n",
        "variable_4 = \"KKU\" #เรียกว่า Double Quote"
      ],
      "execution_count": 10,
      "outputs": []
    },
    {
      "cell_type": "code",
      "metadata": {
        "colab": {
          "base_uri": "https://localhost:8080/"
        },
        "id": "CI5Mva614gOQ",
        "outputId": "afea1540-c378-4c3f-c70d-67882572aa94"
      },
      "source": [
        "variable_x = variable_c + variable_d\n",
        "print(variable_x)"
      ],
      "execution_count": 11,
      "outputs": [
        {
          "output_type": "stream",
          "text": [
            "-29.200000000000003\n"
          ],
          "name": "stdout"
        }
      ]
    },
    {
      "cell_type": "code",
      "metadata": {
        "colab": {
          "base_uri": "https://localhost:8080/"
        },
        "id": "O2crxghL6e--",
        "outputId": "0c690bf4-21a2-4417-b380-ccf8daeea3d8"
      },
      "source": [
        "print(variable_b + variable_4)"
      ],
      "execution_count": 12,
      "outputs": [
        {
          "output_type": "stream",
          "text": [
            "abcdeKKU\n"
          ],
          "name": "stdout"
        }
      ]
    },
    {
      "cell_type": "markdown",
      "metadata": {
        "id": "mNnPD-FZ7FCf"
      },
      "source": [
        "## **Casting**\n",
        "\n",
        "การเปลี่ยนชนิดตัวแปร"
      ]
    },
    {
      "cell_type": "code",
      "metadata": {
        "colab": {
          "base_uri": "https://localhost:8080/"
        },
        "id": "zEsIk-Nh7S37",
        "outputId": "846d2d6e-20e4-431b-d0e0-88897103379d"
      },
      "source": [
        "print(variable_x)\n",
        "print(int(variable_x))"
      ],
      "execution_count": 13,
      "outputs": [
        {
          "output_type": "stream",
          "text": [
            "-29.200000000000003\n",
            "-29\n"
          ],
          "name": "stdout"
        }
      ]
    },
    {
      "cell_type": "code",
      "metadata": {
        "colab": {
          "base_uri": "https://localhost:8080/"
        },
        "id": "rpRE6LSB7uMT",
        "outputId": "a9a2b0ca-5d9b-4375-8ec2-043013a2adb1"
      },
      "source": [
        "V_X = str(variable_x)\n",
        "print(V_X)"
      ],
      "execution_count": 14,
      "outputs": [
        {
          "output_type": "stream",
          "text": [
            "-29.200000000000003\n"
          ],
          "name": "stdout"
        }
      ]
    },
    {
      "cell_type": "code",
      "metadata": {
        "colab": {
          "base_uri": "https://localhost:8080/",
          "height": 36
        },
        "id": "ML7t0Sk38cLB",
        "outputId": "07cc88d6-fe4f-4f9b-f29d-29e477202c10"
      },
      "source": [
        "V_X"
      ],
      "execution_count": 15,
      "outputs": [
        {
          "output_type": "execute_result",
          "data": {
            "application/vnd.google.colaboratory.intrinsic+json": {
              "type": "string"
            },
            "text/plain": [
              "'-29.200000000000003'"
            ]
          },
          "metadata": {
            "tags": []
          },
          "execution_count": 15
        }
      ]
    },
    {
      "cell_type": "code",
      "metadata": {
        "colab": {
          "base_uri": "https://localhost:8080/"
        },
        "id": "kEyPTzaK8iih",
        "outputId": "d3416152-1a30-4d62-a7b2-1eb3dfc0123b"
      },
      "source": [
        "float(V_X)"
      ],
      "execution_count": 16,
      "outputs": [
        {
          "output_type": "execute_result",
          "data": {
            "text/plain": [
              "-29.200000000000003"
            ]
          },
          "metadata": {
            "tags": []
          },
          "execution_count": 16
        }
      ]
    },
    {
      "cell_type": "markdown",
      "metadata": {
        "id": "NvIKevUg9Ca0"
      },
      "source": [
        "## **Data Structure**\n"
      ]
    },
    {
      "cell_type": "code",
      "metadata": {
        "id": "LcxlJga89BqT"
      },
      "source": [
        "list_a = [1,2,0.2,'abs'] # [] square brackets\n",
        "list_b = [2,'xyz',list_a,[1,2,0.0]]"
      ],
      "execution_count": 17,
      "outputs": []
    },
    {
      "cell_type": "code",
      "metadata": {
        "colab": {
          "base_uri": "https://localhost:8080/"
        },
        "id": "i1wsznBl900A",
        "outputId": "1ddd85da-a381-4a85-e553-a66b25f1d1c2"
      },
      "source": [
        "list_a"
      ],
      "execution_count": 18,
      "outputs": [
        {
          "output_type": "execute_result",
          "data": {
            "text/plain": [
              "[1, 2, 0.2, 'abs']"
            ]
          },
          "metadata": {
            "tags": []
          },
          "execution_count": 18
        }
      ]
    },
    {
      "cell_type": "code",
      "metadata": {
        "colab": {
          "base_uri": "https://localhost:8080/"
        },
        "id": "h8cVzTnE92bS",
        "outputId": "e756cc5c-8869-48ee-fd31-4404fe05774f"
      },
      "source": [
        "list_b"
      ],
      "execution_count": 19,
      "outputs": [
        {
          "output_type": "execute_result",
          "data": {
            "text/plain": [
              "[2, 'xyz', [1, 2, 0.2, 'abs'], [1, 2, 0.0]]"
            ]
          },
          "metadata": {
            "tags": []
          },
          "execution_count": 19
        }
      ]
    },
    {
      "cell_type": "code",
      "metadata": {
        "colab": {
          "base_uri": "https://localhost:8080/"
        },
        "id": "YFH8d7kM-KOr",
        "outputId": "a2296692-7baa-4adf-bd5d-4026ce0076ad"
      },
      "source": [
        "len(list_b) #สามารถดูความยาว (ดูว่ามีสมาชิกกี่ตัว ) ของ list ได้ "
      ],
      "execution_count": 20,
      "outputs": [
        {
          "output_type": "execute_result",
          "data": {
            "text/plain": [
              "4"
            ]
          },
          "metadata": {
            "tags": []
          },
          "execution_count": 20
        }
      ]
    },
    {
      "cell_type": "code",
      "metadata": {
        "colab": {
          "base_uri": "https://localhost:8080/"
        },
        "id": "GrXQp0F6-XUM",
        "outputId": "3c9a5aaa-1a29-493a-89ad-2fc006708751"
      },
      "source": [
        "list_b[3]"
      ],
      "execution_count": 21,
      "outputs": [
        {
          "output_type": "execute_result",
          "data": {
            "text/plain": [
              "[1, 2, 0.0]"
            ]
          },
          "metadata": {
            "tags": []
          },
          "execution_count": 21
        }
      ]
    },
    {
      "cell_type": "code",
      "metadata": {
        "colab": {
          "base_uri": "https://localhost:8080/"
        },
        "id": "QcWYusRd-x6p",
        "outputId": "94008cdf-b75a-4f19-ae5a-8c342baa15a7"
      },
      "source": [
        "list_b[3][1]"
      ],
      "execution_count": 22,
      "outputs": [
        {
          "output_type": "execute_result",
          "data": {
            "text/plain": [
              "2"
            ]
          },
          "metadata": {
            "tags": []
          },
          "execution_count": 22
        }
      ]
    },
    {
      "cell_type": "markdown",
      "metadata": {
        "id": "wdeWU1Au-2O7"
      },
      "source": [
        "*หมายเหตุ : string คือ list ของตัวหนังสือ*"
      ]
    },
    {
      "cell_type": "code",
      "metadata": {
        "id": "i06dFckQ-_C5"
      },
      "source": [
        "a = 'Stat KKU'"
      ],
      "execution_count": 23,
      "outputs": []
    },
    {
      "cell_type": "code",
      "metadata": {
        "colab": {
          "base_uri": "https://localhost:8080/",
          "height": 36
        },
        "id": "trhkuvbl_CYf",
        "outputId": "4fb0f6a2-7c38-4641-c597-2627be30c214"
      },
      "source": [
        "a[4]"
      ],
      "execution_count": 24,
      "outputs": [
        {
          "output_type": "execute_result",
          "data": {
            "application/vnd.google.colaboratory.intrinsic+json": {
              "type": "string"
            },
            "text/plain": [
              "' '"
            ]
          },
          "metadata": {
            "tags": []
          },
          "execution_count": 24
        }
      ]
    },
    {
      "cell_type": "markdown",
      "metadata": {
        "id": "kC8vt_Nl_jHA"
      },
      "source": [
        "## **วิธีการสร้าง list แบบที่ 2 (list ว่าง)**"
      ]
    },
    {
      "cell_type": "code",
      "metadata": {
        "id": "naCqrZzZ_qma"
      },
      "source": [
        "list_c = list()\n",
        "list_d = [ ]"
      ],
      "execution_count": 25,
      "outputs": []
    },
    {
      "cell_type": "code",
      "metadata": {
        "colab": {
          "base_uri": "https://localhost:8080/"
        },
        "id": "3g3LQmN8_3zq",
        "outputId": "189d236f-937b-4aa4-f3b9-14f93c901f25"
      },
      "source": [
        "list_c"
      ],
      "execution_count": 26,
      "outputs": [
        {
          "output_type": "execute_result",
          "data": {
            "text/plain": [
              "[]"
            ]
          },
          "metadata": {
            "tags": []
          },
          "execution_count": 26
        }
      ]
    },
    {
      "cell_type": "code",
      "metadata": {
        "colab": {
          "base_uri": "https://localhost:8080/"
        },
        "id": "Dr9YGq50AA1Z",
        "outputId": "ba14e0d7-382d-4a01-8912-083177ab0a26"
      },
      "source": [
        "list_d"
      ],
      "execution_count": 27,
      "outputs": [
        {
          "output_type": "execute_result",
          "data": {
            "text/plain": [
              "[]"
            ]
          },
          "metadata": {
            "tags": []
          },
          "execution_count": 27
        }
      ]
    },
    {
      "cell_type": "markdown",
      "metadata": {
        "id": "ujJnV4cNAjB8"
      },
      "source": [
        "*เติมค่าลงไปใน list (.append())*"
      ]
    },
    {
      "cell_type": "code",
      "metadata": {
        "id": "pRYf5gSIAcXB"
      },
      "source": [
        "list_d.append('a')"
      ],
      "execution_count": 28,
      "outputs": []
    },
    {
      "cell_type": "code",
      "metadata": {
        "colab": {
          "base_uri": "https://localhost:8080/"
        },
        "id": "6hlVNoaXAv5s",
        "outputId": "5b9f4fa6-5899-401b-be84-ffda2ad67d4f"
      },
      "source": [
        "list_d"
      ],
      "execution_count": 29,
      "outputs": [
        {
          "output_type": "execute_result",
          "data": {
            "text/plain": [
              "['a']"
            ]
          },
          "metadata": {
            "tags": []
          },
          "execution_count": 29
        }
      ]
    },
    {
      "cell_type": "code",
      "metadata": {
        "id": "KedJyGAsA4wM"
      },
      "source": [
        "list_d.append(56)"
      ],
      "execution_count": 30,
      "outputs": []
    },
    {
      "cell_type": "code",
      "metadata": {
        "colab": {
          "base_uri": "https://localhost:8080/"
        },
        "id": "nfZjQTgAA8Z3",
        "outputId": "51fce790-a3b1-4afe-b8ef-31fd1eab31cf"
      },
      "source": [
        "list_d"
      ],
      "execution_count": 31,
      "outputs": [
        {
          "output_type": "execute_result",
          "data": {
            "text/plain": [
              "['a', 56]"
            ]
          },
          "metadata": {
            "tags": []
          },
          "execution_count": 31
        }
      ]
    },
    {
      "cell_type": "markdown",
      "metadata": {
        "id": "RRDw6KQSBGhW"
      },
      "source": [
        "**การชี้ค่าใน list (indexing)**\n",
        "\n",
        "- ใช้ลำดับในการชี้\n",
        "- ลำดับเริ่มจาก 0\n",
        "- สามารถชี้จากข้างหลังได้โดยใช้ negative index"
      ]
    },
    {
      "cell_type": "code",
      "metadata": {
        "colab": {
          "base_uri": "https://localhost:8080/"
        },
        "id": "c9go2rdhBY-e",
        "outputId": "04d12918-4815-4bad-85b4-797d13e610f3"
      },
      "source": [
        "list_b"
      ],
      "execution_count": 32,
      "outputs": [
        {
          "output_type": "execute_result",
          "data": {
            "text/plain": [
              "[2, 'xyz', [1, 2, 0.2, 'abs'], [1, 2, 0.0]]"
            ]
          },
          "metadata": {
            "tags": []
          },
          "execution_count": 32
        }
      ]
    },
    {
      "cell_type": "code",
      "metadata": {
        "colab": {
          "base_uri": "https://localhost:8080/"
        },
        "id": "C4te0bNUBceB",
        "outputId": "e1043e46-52e8-4257-e428-7b03b924749a"
      },
      "source": [
        "list_b[-1]"
      ],
      "execution_count": 33,
      "outputs": [
        {
          "output_type": "execute_result",
          "data": {
            "text/plain": [
              "[1, 2, 0.0]"
            ]
          },
          "metadata": {
            "tags": []
          },
          "execution_count": 33
        }
      ]
    },
    {
      "cell_type": "markdown",
      "metadata": {
        "id": "PMLoaT-7CNzN"
      },
      "source": [
        "## **List Slicing**"
      ]
    },
    {
      "cell_type": "code",
      "metadata": {
        "id": "d8TiYn9eCNFy"
      },
      "source": [
        "list_ex = [1,2,3,5,6,8,-1,20,50,0]"
      ],
      "execution_count": 34,
      "outputs": []
    },
    {
      "cell_type": "markdown",
      "metadata": {
        "id": "kf7ghvL8C2ye"
      },
      "source": [
        "*เราจะตัด list โดยเอาตั้งแต่ [ตัวหน้า:ตัวก่อนตัวหลัง]*"
      ]
    },
    {
      "cell_type": "code",
      "metadata": {
        "colab": {
          "base_uri": "https://localhost:8080/"
        },
        "id": "ZzM4VhmUCa6Q",
        "outputId": "7f14f44e-8038-434e-be68-e403bbcb19ab"
      },
      "source": [
        "list_ex[1:6]"
      ],
      "execution_count": 35,
      "outputs": [
        {
          "output_type": "execute_result",
          "data": {
            "text/plain": [
              "[2, 3, 5, 6, 8]"
            ]
          },
          "metadata": {
            "tags": []
          },
          "execution_count": 35
        }
      ]
    },
    {
      "cell_type": "code",
      "metadata": {
        "colab": {
          "base_uri": "https://localhost:8080/"
        },
        "id": "QfnU48RcDYzE",
        "outputId": "f24fbf65-28f6-411a-e1d1-170dc8800e56"
      },
      "source": [
        "list_ex[4:]"
      ],
      "execution_count": 36,
      "outputs": [
        {
          "output_type": "execute_result",
          "data": {
            "text/plain": [
              "[6, 8, -1, 20, 50, 0]"
            ]
          },
          "metadata": {
            "tags": []
          },
          "execution_count": 36
        }
      ]
    },
    {
      "cell_type": "code",
      "metadata": {
        "colab": {
          "base_uri": "https://localhost:8080/"
        },
        "id": "UY4nssQ3DiY9",
        "outputId": "966b3a2a-4919-497f-d20a-d9acc00afdbe"
      },
      "source": [
        "list_ex[:6]"
      ],
      "execution_count": 37,
      "outputs": [
        {
          "output_type": "execute_result",
          "data": {
            "text/plain": [
              "[1, 2, 3, 5, 6, 8]"
            ]
          },
          "metadata": {
            "tags": []
          },
          "execution_count": 37
        }
      ]
    },
    {
      "cell_type": "markdown",
      "metadata": {
        "id": "Ne6eEJHYEU0d"
      },
      "source": [
        "*การใช้ 3 จุด [จุดเริ่มต้น:จุดสุดท้าย:step]*"
      ]
    },
    {
      "cell_type": "code",
      "metadata": {
        "colab": {
          "base_uri": "https://localhost:8080/"
        },
        "id": "ygLADEs9D5EP",
        "outputId": "76537fee-5577-464e-b02c-7f8944021980"
      },
      "source": [
        "list_ex[::2]"
      ],
      "execution_count": 38,
      "outputs": [
        {
          "output_type": "execute_result",
          "data": {
            "text/plain": [
              "[1, 3, 6, -1, 50]"
            ]
          },
          "metadata": {
            "tags": []
          },
          "execution_count": 38
        }
      ]
    },
    {
      "cell_type": "code",
      "metadata": {
        "colab": {
          "base_uri": "https://localhost:8080/"
        },
        "id": "JV3KobltEjxU",
        "outputId": "52b2a044-ddbb-4a10-ab80-cce4c483e57b"
      },
      "source": [
        "list_ex [::-1] #กลับ list"
      ],
      "execution_count": 39,
      "outputs": [
        {
          "output_type": "execute_result",
          "data": {
            "text/plain": [
              "[0, 50, 20, -1, 8, 6, 5, 3, 2, 1]"
            ]
          },
          "metadata": {
            "tags": []
          },
          "execution_count": 39
        }
      ]
    },
    {
      "cell_type": "code",
      "metadata": {
        "colab": {
          "base_uri": "https://localhost:8080/",
          "height": 36
        },
        "id": "AD7wEKRrE7E1",
        "outputId": "a6e50a30-1a3a-4132-c655-e517ff34211f"
      },
      "source": [
        "a"
      ],
      "execution_count": 40,
      "outputs": [
        {
          "output_type": "execute_result",
          "data": {
            "application/vnd.google.colaboratory.intrinsic+json": {
              "type": "string"
            },
            "text/plain": [
              "'Stat KKU'"
            ]
          },
          "metadata": {
            "tags": []
          },
          "execution_count": 40
        }
      ]
    },
    {
      "cell_type": "code",
      "metadata": {
        "colab": {
          "base_uri": "https://localhost:8080/",
          "height": 36
        },
        "id": "xVG2OSkUE8ZR",
        "outputId": "6433d9da-cbbe-4c7d-b881-b88b695efdcf"
      },
      "source": [
        "a[5:]"
      ],
      "execution_count": 41,
      "outputs": [
        {
          "output_type": "execute_result",
          "data": {
            "application/vnd.google.colaboratory.intrinsic+json": {
              "type": "string"
            },
            "text/plain": [
              "'KKU'"
            ]
          },
          "metadata": {
            "tags": []
          },
          "execution_count": 41
        }
      ]
    },
    {
      "cell_type": "code",
      "metadata": {
        "colab": {
          "base_uri": "https://localhost:8080/",
          "height": 36
        },
        "id": "_DFFmmhBE8g-",
        "outputId": "34c8e564-e8d0-4d7b-b5f4-ea95834e24b3"
      },
      "source": [
        "a[-3:]"
      ],
      "execution_count": 42,
      "outputs": [
        {
          "output_type": "execute_result",
          "data": {
            "application/vnd.google.colaboratory.intrinsic+json": {
              "type": "string"
            },
            "text/plain": [
              "'KKU'"
            ]
          },
          "metadata": {
            "tags": []
          },
          "execution_count": 42
        }
      ]
    },
    {
      "cell_type": "code",
      "metadata": {
        "colab": {
          "base_uri": "https://localhost:8080/",
          "height": 36
        },
        "id": "HJf_alwYF9Fp",
        "outputId": "607a9718-be54-4b69-819d-fc8a68837db2"
      },
      "source": [
        "a[5:8]"
      ],
      "execution_count": 43,
      "outputs": [
        {
          "output_type": "execute_result",
          "data": {
            "application/vnd.google.colaboratory.intrinsic+json": {
              "type": "string"
            },
            "text/plain": [
              "'KKU'"
            ]
          },
          "metadata": {
            "tags": []
          },
          "execution_count": 43
        }
      ]
    },
    {
      "cell_type": "code",
      "metadata": {
        "colab": {
          "base_uri": "https://localhost:8080/",
          "height": 36
        },
        "id": "rAQtTsFGGLzW",
        "outputId": "a1442bf8-b4d1-4d28-fe3b-12f107a81a90"
      },
      "source": [
        "a[5::]"
      ],
      "execution_count": 44,
      "outputs": [
        {
          "output_type": "execute_result",
          "data": {
            "application/vnd.google.colaboratory.intrinsic+json": {
              "type": "string"
            },
            "text/plain": [
              "'KKU'"
            ]
          },
          "metadata": {
            "tags": []
          },
          "execution_count": 44
        }
      ]
    },
    {
      "cell_type": "code",
      "metadata": {
        "colab": {
          "base_uri": "https://localhost:8080/",
          "height": 36
        },
        "id": "E0Wek0ZvGOU_",
        "outputId": "8cd286f1-20dc-4b3b-aea4-dc3aacafcd94"
      },
      "source": [
        "a[-3::]"
      ],
      "execution_count": 45,
      "outputs": [
        {
          "output_type": "execute_result",
          "data": {
            "application/vnd.google.colaboratory.intrinsic+json": {
              "type": "string"
            },
            "text/plain": [
              "'KKU'"
            ]
          },
          "metadata": {
            "tags": []
          },
          "execution_count": 45
        }
      ]
    },
    {
      "cell_type": "code",
      "metadata": {
        "colab": {
          "base_uri": "https://localhost:8080/",
          "height": 36
        },
        "id": "RwY3tMWfGjo_",
        "outputId": "0051a3b5-2cba-49f1-d75d-16c9536d7fcd"
      },
      "source": [
        "a[-3::1]"
      ],
      "execution_count": 46,
      "outputs": [
        {
          "output_type": "execute_result",
          "data": {
            "application/vnd.google.colaboratory.intrinsic+json": {
              "type": "string"
            },
            "text/plain": [
              "'KKU'"
            ]
          },
          "metadata": {
            "tags": []
          },
          "execution_count": 46
        }
      ]
    },
    {
      "cell_type": "markdown",
      "metadata": {
        "id": "17fFIbapG351"
      },
      "source": [
        "## **List + List**"
      ]
    },
    {
      "cell_type": "code",
      "metadata": {
        "colab": {
          "base_uri": "https://localhost:8080/"
        },
        "id": "ALJ_LuMCG2L2",
        "outputId": "07fc0934-ad62-496b-addc-2659016c50ec"
      },
      "source": [
        "print(list_a)\n",
        "print(list_b)"
      ],
      "execution_count": 47,
      "outputs": [
        {
          "output_type": "stream",
          "text": [
            "[1, 2, 0.2, 'abs']\n",
            "[2, 'xyz', [1, 2, 0.2, 'abs'], [1, 2, 0.0]]\n"
          ],
          "name": "stdout"
        }
      ]
    },
    {
      "cell_type": "code",
      "metadata": {
        "colab": {
          "base_uri": "https://localhost:8080/"
        },
        "id": "BJ0L51xVHDbC",
        "outputId": "e7b4158d-3008-4739-ceb3-0a35bbd47e47"
      },
      "source": [
        "list_a + list_b"
      ],
      "execution_count": 48,
      "outputs": [
        {
          "output_type": "execute_result",
          "data": {
            "text/plain": [
              "[1, 2, 0.2, 'abs', 2, 'xyz', [1, 2, 0.2, 'abs'], [1, 2, 0.0]]"
            ]
          },
          "metadata": {
            "tags": []
          },
          "execution_count": 48
        }
      ]
    },
    {
      "cell_type": "markdown",
      "metadata": {
        "id": "9rWrmGz0LN6o"
      },
      "source": [
        "## **Format string**\n",
        "\n",
        "วิธีการเขียนคือ\n",
        "\n",
        "```\n",
        "f'string{ตัวแปร}'\n",
        "```\n",
        "\n"
      ]
    },
    {
      "cell_type": "code",
      "metadata": {
        "colab": {
          "base_uri": "https://localhost:8080/",
          "height": 36
        },
        "id": "230s7C92LYnb",
        "outputId": "a65f9e2b-77dc-4a60-fdd6-d003d2419e7e"
      },
      "source": [
        "f'ตัวแปร list_a มีค่าคือ {list_a}' # {} เรียกว่า curly brackets"
      ],
      "execution_count": 49,
      "outputs": [
        {
          "output_type": "execute_result",
          "data": {
            "application/vnd.google.colaboratory.intrinsic+json": {
              "type": "string"
            },
            "text/plain": [
              "\"ตัวแปร list_a มีค่าคือ [1, 2, 0.2, 'abs']\""
            ]
          },
          "metadata": {
            "tags": []
          },
          "execution_count": 49
        }
      ]
    },
    {
      "cell_type": "markdown",
      "metadata": {
        "id": "BCys0RO4JOaQ"
      },
      "source": [
        "## **Loop** \n",
        "\n",
        "```\n",
        "for ตัวแปรที่จะรับค่าจาก list in list (list ที่จะนำมาวนลูป) :\n",
        "  do something\n",
        "  do another\n",
        "do other things\n",
        "```\n",
        "\n",
        "เช่น\n",
        "\n"
      ]
    },
    {
      "cell_type": "code",
      "metadata": {
        "colab": {
          "base_uri": "https://localhost:8080/"
        },
        "id": "IEwkgYdKJxx-",
        "outputId": "83b4a7a4-d0b8-405d-b947-9b6420014d4d"
      },
      "source": [
        "for i in [1,2,3,4,5]:\n",
        "  print(i+1)"
      ],
      "execution_count": 50,
      "outputs": [
        {
          "output_type": "stream",
          "text": [
            "2\n",
            "3\n",
            "4\n",
            "5\n",
            "6\n"
          ],
          "name": "stdout"
        }
      ]
    },
    {
      "cell_type": "code",
      "metadata": {
        "colab": {
          "base_uri": "https://localhost:8080/"
        },
        "id": "yVugfb15MXXg",
        "outputId": "eaa5c228-e460-4f7c-d329-664a7dc0103c"
      },
      "source": [
        "for x in [1,2,3,4,5]:\n",
        "  print (f'ค่าตัวแปร x คือ {x} และ x+2 = {x+2}')"
      ],
      "execution_count": 51,
      "outputs": [
        {
          "output_type": "stream",
          "text": [
            "ค่าตัวแปร x คือ 1 และ x+2 = 3\n",
            "ค่าตัวแปร x คือ 2 และ x+2 = 4\n",
            "ค่าตัวแปร x คือ 3 และ x+2 = 5\n",
            "ค่าตัวแปร x คือ 4 และ x+2 = 6\n",
            "ค่าตัวแปร x คือ 5 และ x+2 = 7\n"
          ],
          "name": "stdout"
        }
      ]
    },
    {
      "cell_type": "code",
      "metadata": {
        "colab": {
          "base_uri": "https://localhost:8080/"
        },
        "id": "l0xl5EuhM_1a",
        "outputId": "62beac07-9873-4bbc-ccbd-9c98aa63ef2a"
      },
      "source": [
        "list5 = [1,2,3,4,5]\n",
        "for x in list5:\n",
        "  print (f'ค่าตัวแปร x คือ {x} และ x+2 = {x+2}')"
      ],
      "execution_count": 52,
      "outputs": [
        {
          "output_type": "stream",
          "text": [
            "ค่าตัวแปร x คือ 1 และ x+2 = 3\n",
            "ค่าตัวแปร x คือ 2 และ x+2 = 4\n",
            "ค่าตัวแปร x คือ 3 และ x+2 = 5\n",
            "ค่าตัวแปร x คือ 4 และ x+2 = 6\n",
            "ค่าตัวแปร x คือ 5 และ x+2 = 7\n"
          ],
          "name": "stdout"
        }
      ]
    },
    {
      "cell_type": "code",
      "metadata": {
        "colab": {
          "base_uri": "https://localhost:8080/"
        },
        "id": "_pBjMNIzNI7u",
        "outputId": "ba399cd3-b1b8-4a2a-f1ef-1ce49dcdaaed"
      },
      "source": [
        "list(range(10))"
      ],
      "execution_count": 53,
      "outputs": [
        {
          "output_type": "execute_result",
          "data": {
            "text/plain": [
              "[0, 1, 2, 3, 4, 5, 6, 7, 8, 9]"
            ]
          },
          "metadata": {
            "tags": []
          },
          "execution_count": 53
        }
      ]
    },
    {
      "cell_type": "code",
      "metadata": {
        "colab": {
          "base_uri": "https://localhost:8080/"
        },
        "id": "Wq-b51snNXGQ",
        "outputId": "74c5783c-22f1-442c-b084-0a4e39bb7e10"
      },
      "source": [
        "for i in range (2,7):\n",
        "  print(i)"
      ],
      "execution_count": 54,
      "outputs": [
        {
          "output_type": "stream",
          "text": [
            "2\n",
            "3\n",
            "4\n",
            "5\n",
            "6\n"
          ],
          "name": "stdout"
        }
      ]
    },
    {
      "cell_type": "code",
      "metadata": {
        "colab": {
          "base_uri": "https://localhost:8080/"
        },
        "id": "pdCJ-SsIOW1F",
        "outputId": "1761c455-5269-4617-e245-2e80258a6ccf"
      },
      "source": [
        "for i in range (2,7,2):\n",
        "  print(i)"
      ],
      "execution_count": 55,
      "outputs": [
        {
          "output_type": "stream",
          "text": [
            "2\n",
            "4\n",
            "6\n"
          ],
          "name": "stdout"
        }
      ]
    },
    {
      "cell_type": "code",
      "metadata": {
        "colab": {
          "base_uri": "https://localhost:8080/"
        },
        "id": "0RrYdcljOZh7",
        "outputId": "9120866b-26d8-4133-923e-12269dab92e5"
      },
      "source": [
        "for i in range (5):\n",
        "  print('hahaha')"
      ],
      "execution_count": 56,
      "outputs": [
        {
          "output_type": "stream",
          "text": [
            "hahaha\n",
            "hahaha\n",
            "hahaha\n",
            "hahaha\n",
            "hahaha\n"
          ],
          "name": "stdout"
        }
      ]
    },
    {
      "cell_type": "code",
      "metadata": {
        "colab": {
          "base_uri": "https://localhost:8080/"
        },
        "id": "Dd2KyDQnOlxL",
        "outputId": "ac1405f9-5d1f-489c-d8b2-5b30c76c1803"
      },
      "source": [
        "for i in range (5):\n",
        "  print('hahaha')\n",
        "  x = i+3\n",
        "  print(f'i={i} x={x}')"
      ],
      "execution_count": 57,
      "outputs": [
        {
          "output_type": "stream",
          "text": [
            "hahaha\n",
            "i=0 x=3\n",
            "hahaha\n",
            "i=1 x=4\n",
            "hahaha\n",
            "i=2 x=5\n",
            "hahaha\n",
            "i=3 x=6\n",
            "hahaha\n",
            "i=4 x=7\n"
          ],
          "name": "stdout"
        }
      ]
    },
    {
      "cell_type": "markdown",
      "metadata": {
        "id": "gWqvVn9qPEDr"
      },
      "source": [
        "## **Nested loop**\n",
        "\n",
        "ลูปซ้อนลูป"
      ]
    },
    {
      "cell_type": "code",
      "metadata": {
        "colab": {
          "base_uri": "https://localhost:8080/"
        },
        "id": "sd4c38yiPLrw",
        "outputId": "edd96cf8-27a6-45e6-8660-102bb40dd607"
      },
      "source": [
        "for i in range(3):\n",
        "  print(f'now i = {i}')\n",
        "  print( 'start j loop')\n",
        "  for j in range(4):\n",
        "    print(f'i = {i} j = {j} i+j = {i+j}')\n",
        "  print('end j loop')"
      ],
      "execution_count": 58,
      "outputs": [
        {
          "output_type": "stream",
          "text": [
            "now i = 0\n",
            "start j loop\n",
            "i = 0 j = 0 i+j = 0\n",
            "i = 0 j = 1 i+j = 1\n",
            "i = 0 j = 2 i+j = 2\n",
            "i = 0 j = 3 i+j = 3\n",
            "end j loop\n",
            "now i = 1\n",
            "start j loop\n",
            "i = 1 j = 0 i+j = 1\n",
            "i = 1 j = 1 i+j = 2\n",
            "i = 1 j = 2 i+j = 3\n",
            "i = 1 j = 3 i+j = 4\n",
            "end j loop\n",
            "now i = 2\n",
            "start j loop\n",
            "i = 2 j = 0 i+j = 2\n",
            "i = 2 j = 1 i+j = 3\n",
            "i = 2 j = 2 i+j = 4\n",
            "i = 2 j = 3 i+j = 5\n",
            "end j loop\n"
          ],
          "name": "stdout"
        }
      ]
    },
    {
      "cell_type": "markdown",
      "metadata": {
        "id": "nsDD8EaYJQfZ"
      },
      "source": [
        "## **Condition (If Statement)**\n",
        "\n",
        "\n",
        "\n",
        "```\n",
        "if เงื่อนไขที่จะตรวจสอบ ( ==, !=, <, >, <=, >=) :\n",
        "  ถ้าเงื่อนไขเป็นจริง ทำงาน 1\n",
        "  ถ้าเงื่อนไขเป็นจริง ทำงาน 2\n",
        "elif เงื่อนไขที่จะตรวจสอบต่อไปถ้าเงื่อนไขข้างบนไม่เป็นจริง:\n",
        "  ถ้าเงื่อนไขเป็นจริง ทำงาน a1\n",
        "  ถ้าเงื่อนไขเป็นจริง ทำงาน a2\n",
        "elif เงื่อนไขที่จะตรวจสอบต่อไปถ้าเงื่อนไขข้างบนไม่เป็นจริง:\n",
        "  ถ้าเงื่อนไขเป็นจริง ทำงาน b1\n",
        "  ถ้าเงื่อนไขเป็นจริง ทำงาน b2\n",
        "else : #ตรวจสอบเงื่อนไขข้างบนแล้วไม่เป็นจริง\n",
        "  ทำงานที่ x\n",
        "```\n",
        "\n"
      ]
    },
    {
      "cell_type": "code",
      "metadata": {
        "id": "75THmnKnF6Jb"
      },
      "source": [
        "stringx = 'ajaiopakdfapodkapdfka'\n",
        "\n",
        "if len(stringx) > 30:\n",
        "  print (f'{string} is longer than 30 charecters')"
      ],
      "execution_count": 62,
      "outputs": []
    },
    {
      "cell_type": "code",
      "metadata": {
        "colab": {
          "base_uri": "https://localhost:8080/"
        },
        "id": "AqFV2L2iHVy4",
        "outputId": "6f209c20-ad1c-451e-f179-44caa6351880"
      },
      "source": [
        "stringx = 'ajaiopakdfapodkapdfka'\n",
        "\n",
        "if len(stringx) > 100:\n",
        "  print (f'{string} is longer than 100 charecters')\n",
        "else :\n",
        "  print (f'{stringx} is {len(stringx)} charecters long')"
      ],
      "execution_count": 64,
      "outputs": [
        {
          "output_type": "stream",
          "text": [
            "ajaiopakdfapodkapdfka is 21 charecters long\n"
          ],
          "name": "stdout"
        }
      ]
    },
    {
      "cell_type": "code",
      "metadata": {
        "colab": {
          "base_uri": "https://localhost:8080/"
        },
        "id": "HgY-r-eULIVm",
        "outputId": "234a02b7-4da6-4f22-9c60-48d632552549"
      },
      "source": [
        "password = '12345'\n",
        "\n",
        "input_pass = '123'\n",
        "if input_pass == password:\n",
        "  print('Welcome!')\n",
        "elif len(input_pass) > len(password) :\n",
        "  print ('Too long, Try again')\n",
        "elif len(input_pass) < len(password) :\n",
        "  print ('Too short, Try again')\n",
        "else :\n",
        "  print ('Wrong passwords, Try again')"
      ],
      "execution_count": 70,
      "outputs": [
        {
          "output_type": "stream",
          "text": [
            "Too short, Try again\n"
          ],
          "name": "stdout"
        }
      ]
    },
    {
      "cell_type": "markdown",
      "metadata": {
        "id": "EisQjh_ELJF9"
      },
      "source": [
        "Quiz 1 : หา min"
      ]
    },
    {
      "cell_type": "code",
      "metadata": {
        "id": "S26t5sv_NkZd",
        "outputId": "07e8d9eb-09bf-4619-eac6-c670cb9de2a8",
        "colab": {
          "base_uri": "https://localhost:8080/"
        }
      },
      "source": [
        "list_ex = [1,5,9,-19,-2,0] # หาค่าน้อยที่สุดใน list โดยไม่ใช้ function min\n",
        "\n",
        "for x in list_ex:\n",
        "  if x == -19:\n",
        "    print (f'ค่าตัวแปร x คือ {x} คือค่าตัวแปรที่น้อยที่สุด ')\n",
        "  else :\n",
        "    print (f'ค่าตัวแปร x คือ {x} ไม่ใช่ค่าตัวแปรที่น้อยที่สุด')"
      ],
      "execution_count": 85,
      "outputs": [
        {
          "output_type": "stream",
          "text": [
            "ค่าตัวแปร x คือ 1 ไม่ใช่ค่าตัวแปรที่น้อยที่สุด\n",
            "ค่าตัวแปร x คือ 5 ไม่ใช่ค่าตัวแปรที่น้อยที่สุด\n",
            "ค่าตัวแปร x คือ 9 ไม่ใช่ค่าตัวแปรที่น้อยที่สุด\n",
            "ค่าตัวแปร x คือ -19 คือค่าตัวแปรที่น้อยที่สุด \n",
            "ค่าตัวแปร x คือ -2 ไม่ใช่ค่าตัวแปรที่น้อยที่สุด\n",
            "ค่าตัวแปร x คือ 0 ไม่ใช่ค่าตัวแปรที่น้อยที่สุด\n"
          ],
          "name": "stdout"
        }
      ]
    },
    {
      "cell_type": "markdown",
      "metadata": {
        "id": "0Z0EFBECLQxo"
      },
      "source": [
        "Quiz 2 : ตัดเกรด"
      ]
    },
    {
      "cell_type": "markdown",
      "metadata": {
        "id": "RIBEmTHuJViT"
      },
      "source": [
        "## **Function**"
      ]
    }
  ]
}