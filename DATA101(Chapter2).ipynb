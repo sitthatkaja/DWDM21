{
  "nbformat": 4,
  "nbformat_minor": 0,
  "metadata": {
    "colab": {
      "name": "DATA101(Chapter2).ipynb",
      "provenance": [],
      "authorship_tag": "ABX9TyPu2fibAKtf0mxZp8LBruqh",
      "include_colab_link": true
    },
    "kernelspec": {
      "name": "python3",
      "display_name": "Python 3"
    },
    "language_info": {
      "name": "python"
    }
  },
  "cells": [
    {
      "cell_type": "markdown",
      "metadata": {
        "id": "view-in-github",
        "colab_type": "text"
      },
      "source": [
        "<a href=\"https://colab.research.google.com/github/sitthatkaja/DWDM21/blob/main/DATA101(Chapter2).ipynb\" target=\"_parent\"><img src=\"https://colab.research.google.com/assets/colab-badge.svg\" alt=\"Open In Colab\"/></a>"
      ]
    },
    {
      "cell_type": "markdown",
      "metadata": {
        "id": "Eamjjz7tz6lu"
      },
      "source": [
        "# **DATA101(Chapter2)**\n",
        "\n",
        "*Text ส่วนใหญ่จะเป็นภาษา markdown*\n",
        "\n",
        "***"
      ]
    },
    {
      "cell_type": "markdown",
      "metadata": {
        "id": "S87I38EItooJ"
      },
      "source": [
        "#### **ข้อดีหนึ่งของ python คือมี package สำหรับงานต่างๆมากมาย**\n",
        "\n",
        "ซึ่ง pandas เป็น package สำหรับการทำงานกับข้อมูลที่อยู่ในรูปแบบข้อมูล โดย pandas จะเรียกตารางนั้นว่า dataframe"
      ]
    },
    {
      "cell_type": "code",
      "metadata": {
        "id": "X5R85BzVr67K"
      },
      "source": [
        "import pandas as pd #วิธีเรียกใช้ package = import ชื่อ packages as ชื่อย่อ"
      ],
      "execution_count": 3,
      "outputs": []
    },
    {
      "cell_type": "markdown",
      "metadata": {
        "id": "Klmtm4PbuydG"
      },
      "source": [
        "*ไฟล์หลักในวิชานี้จะเป็น .csv (comma separated values)*\n",
        "\n",
        "*ไฟล์ชนิดนี้เก็บข้อมูลเป็นตารางที่สามารถเข้าใจได้ง่าย*"
      ]
    },
    {
      "cell_type": "code",
      "metadata": {
        "colab": {
          "base_uri": "https://localhost:8080/",
          "height": 141
        },
        "id": "hj9hYXBgvZu2",
        "outputId": "c74f030e-bbe3-421f-9e1d-5524039dd628"
      },
      "source": [
        "data_df = pd.read_csv('data.csv')\n",
        "data_df"
      ],
      "execution_count": 6,
      "outputs": [
        {
          "output_type": "execute_result",
          "data": {
            "text/html": [
              "<div>\n",
              "<style scoped>\n",
              "    .dataframe tbody tr th:only-of-type {\n",
              "        vertical-align: middle;\n",
              "    }\n",
              "\n",
              "    .dataframe tbody tr th {\n",
              "        vertical-align: top;\n",
              "    }\n",
              "\n",
              "    .dataframe thead th {\n",
              "        text-align: right;\n",
              "    }\n",
              "</style>\n",
              "<table border=\"1\" class=\"dataframe\">\n",
              "  <thead>\n",
              "    <tr style=\"text-align: right;\">\n",
              "      <th></th>\n",
              "      <th>name</th>\n",
              "      <th>age</th>\n",
              "      <th>city</th>\n",
              "    </tr>\n",
              "  </thead>\n",
              "  <tbody>\n",
              "    <tr>\n",
              "      <th>0</th>\n",
              "      <td>tom</td>\n",
              "      <td>27</td>\n",
              "      <td>Khon Kaen</td>\n",
              "    </tr>\n",
              "    <tr>\n",
              "      <th>1</th>\n",
              "      <td>Paul</td>\n",
              "      <td>15</td>\n",
              "      <td>Bangkok</td>\n",
              "    </tr>\n",
              "    <tr>\n",
              "      <th>2</th>\n",
              "      <td>Sarah</td>\n",
              "      <td>49</td>\n",
              "      <td>London</td>\n",
              "    </tr>\n",
              "  </tbody>\n",
              "</table>\n",
              "</div>"
            ],
            "text/plain": [
              "    name  age       city\n",
              "0    tom   27  Khon Kaen\n",
              "1   Paul   15    Bangkok\n",
              "2  Sarah   49     London"
            ]
          },
          "metadata": {
            "tags": []
          },
          "execution_count": 6
        }
      ]
    },
    {
      "cell_type": "markdown",
      "metadata": {
        "id": "fM5obFWTzua5"
      },
      "source": [
        "# **Basic Python**\n",
        "## **Variable**"
      ]
    },
    {
      "cell_type": "markdown",
      "metadata": {
        "id": "JEt5_saX1mKS"
      },
      "source": [
        "***ข้อกำหนดในการตั้งชื่อตัวแปร***\n",
        "\n",
        "- ชื่อห้ามมีเว้นวรรค\n",
        "- ใช้ภาษาอังกฤษ\n",
        "- ตัวเล็กกับตัวใหญ่ แตกต่างกัน (Case sensitive)\n",
        "- ห้ามใช้ตัวเลขเป็นตัวหน้า"
      ]
    },
    {
      "cell_type": "code",
      "metadata": {
        "id": "_9xvNRGw0Sur"
      },
      "source": [
        "variable_a = 12\n",
        "variable_b = 'abcde' #เรียกว่า Quote\n",
        "variable_c = variable_a"
      ],
      "execution_count": 8,
      "outputs": []
    },
    {
      "cell_type": "code",
      "metadata": {
        "colab": {
          "base_uri": "https://localhost:8080/"
        },
        "id": "qtDaO9-S0S33",
        "outputId": "52326e7c-c355-42fc-bfc5-2fff0d4a734e"
      },
      "source": [
        "variable_a"
      ],
      "execution_count": 10,
      "outputs": [
        {
          "output_type": "execute_result",
          "data": {
            "text/plain": [
              "12"
            ]
          },
          "metadata": {
            "tags": []
          },
          "execution_count": 10
        }
      ]
    },
    {
      "cell_type": "code",
      "metadata": {
        "colab": {
          "base_uri": "https://localhost:8080/",
          "height": 36
        },
        "id": "Hd3JCzJ31ddL",
        "outputId": "b4fffbf3-41ff-42b9-b029-b0d1d1474944"
      },
      "source": [
        "variable_b"
      ],
      "execution_count": 11,
      "outputs": [
        {
          "output_type": "execute_result",
          "data": {
            "application/vnd.google.colaboratory.intrinsic+json": {
              "type": "string"
            },
            "text/plain": [
              "'abcde'"
            ]
          },
          "metadata": {
            "tags": []
          },
          "execution_count": 11
        }
      ]
    },
    {
      "cell_type": "code",
      "metadata": {
        "colab": {
          "base_uri": "https://localhost:8080/"
        },
        "id": "bdTvpTw-1fSM",
        "outputId": "810b4474-0d10-4e45-9177-5194a8db7da6"
      },
      "source": [
        "variable_c"
      ],
      "execution_count": 12,
      "outputs": [
        {
          "output_type": "execute_result",
          "data": {
            "text/plain": [
              "12"
            ]
          },
          "metadata": {
            "tags": []
          },
          "execution_count": 12
        }
      ]
    },
    {
      "cell_type": "code",
      "metadata": {
        "id": "_0WcIrCK4JYt"
      },
      "source": [
        "variable_a = 12\n",
        "variable_b = 'abcde' #เรียกว่า Quote\n",
        "variable_c = variable_a\n",
        "variable_d = -41.2\n",
        "variable_4 = \"KKU\" #เรียกว่า Double Quote"
      ],
      "execution_count": 13,
      "outputs": []
    },
    {
      "cell_type": "code",
      "metadata": {
        "colab": {
          "base_uri": "https://localhost:8080/"
        },
        "id": "CI5Mva614gOQ",
        "outputId": "e230f8a9-dccd-4c4b-93df-8900265b35c0"
      },
      "source": [
        "variable_x = variable_c + variable_d\n",
        "print(variable_x)"
      ],
      "execution_count": 15,
      "outputs": [
        {
          "output_type": "stream",
          "text": [
            "-29.200000000000003\n"
          ],
          "name": "stdout"
        }
      ]
    },
    {
      "cell_type": "code",
      "metadata": {
        "colab": {
          "base_uri": "https://localhost:8080/"
        },
        "id": "O2crxghL6e--",
        "outputId": "7988e013-cf0c-429e-daa4-ed89d41019f8"
      },
      "source": [
        "print(variable_b + variable_4)"
      ],
      "execution_count": 17,
      "outputs": [
        {
          "output_type": "stream",
          "text": [
            "abcdeKKU\n"
          ],
          "name": "stdout"
        }
      ]
    },
    {
      "cell_type": "markdown",
      "metadata": {
        "id": "mNnPD-FZ7FCf"
      },
      "source": [
        "## **Casting**\n",
        "\n",
        "การเปลี่ยนชนิดตัวแปร"
      ]
    },
    {
      "cell_type": "code",
      "metadata": {
        "colab": {
          "base_uri": "https://localhost:8080/"
        },
        "id": "zEsIk-Nh7S37",
        "outputId": "f197cc71-560a-43e9-cc12-f78b08954e6c"
      },
      "source": [
        "print(variable_x)\n",
        "print(int(variable_x))"
      ],
      "execution_count": 19,
      "outputs": [
        {
          "output_type": "stream",
          "text": [
            "-29.200000000000003\n",
            "-29\n"
          ],
          "name": "stdout"
        }
      ]
    },
    {
      "cell_type": "code",
      "metadata": {
        "colab": {
          "base_uri": "https://localhost:8080/"
        },
        "id": "rpRE6LSB7uMT",
        "outputId": "08282aa3-0e7d-40fe-c241-9758940c9c35"
      },
      "source": [
        "V_X = str(variable_x)\n",
        "print(V_X)"
      ],
      "execution_count": 21,
      "outputs": [
        {
          "output_type": "stream",
          "text": [
            "-29.200000000000003\n"
          ],
          "name": "stdout"
        }
      ]
    },
    {
      "cell_type": "code",
      "metadata": {
        "colab": {
          "base_uri": "https://localhost:8080/",
          "height": 36
        },
        "id": "ML7t0Sk38cLB",
        "outputId": "3a47533f-79f2-4f28-8dc5-b7ddf0a9c939"
      },
      "source": [
        "V_X"
      ],
      "execution_count": 22,
      "outputs": [
        {
          "output_type": "execute_result",
          "data": {
            "application/vnd.google.colaboratory.intrinsic+json": {
              "type": "string"
            },
            "text/plain": [
              "'-29.200000000000003'"
            ]
          },
          "metadata": {
            "tags": []
          },
          "execution_count": 22
        }
      ]
    },
    {
      "cell_type": "code",
      "metadata": {
        "colab": {
          "base_uri": "https://localhost:8080/"
        },
        "id": "kEyPTzaK8iih",
        "outputId": "d549550c-d401-43fc-f960-df2f3044ba8d"
      },
      "source": [
        "float(V_X)"
      ],
      "execution_count": 23,
      "outputs": [
        {
          "output_type": "execute_result",
          "data": {
            "text/plain": [
              "-29.200000000000003"
            ]
          },
          "metadata": {
            "tags": []
          },
          "execution_count": 23
        }
      ]
    },
    {
      "cell_type": "markdown",
      "metadata": {
        "id": "NvIKevUg9Ca0"
      },
      "source": [
        "## **Data Structure**"
      ]
    },
    {
      "cell_type": "code",
      "metadata": {
        "id": "LcxlJga89BqT"
      },
      "source": [
        ""
      ],
      "execution_count": null,
      "outputs": []
    }
  ]
}